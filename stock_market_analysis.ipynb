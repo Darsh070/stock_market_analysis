{
 "cells": [
  {
   "cell_type": "code",
   "execution_count": 107,
   "metadata": {},
   "outputs": [],
   "source": [
    "import matplotlib.pyplot as plt\n",
    "import pandas as pd\n",
    "import numpy as np\n",
    "import os\n",
    "import tensorflow as tf\n"
   ]
  },
  {
   "cell_type": "code",
   "execution_count": 108,
   "metadata": {},
   "outputs": [],
   "source": [
    "data = pd.read_csv(r\"E:\\kaggle_dataset\\stock_market\\stock_market.csv\")"
   ]
  },
  {
   "cell_type": "code",
   "execution_count": 109,
   "metadata": {},
   "outputs": [
    {
     "data": {
      "text/html": [
       "<div>\n",
       "<style scoped>\n",
       "    .dataframe tbody tr th:only-of-type {\n",
       "        vertical-align: middle;\n",
       "    }\n",
       "\n",
       "    .dataframe tbody tr th {\n",
       "        vertical-align: top;\n",
       "    }\n",
       "\n",
       "    .dataframe thead th {\n",
       "        text-align: right;\n",
       "    }\n",
       "</style>\n",
       "<table border=\"1\" class=\"dataframe\">\n",
       "  <thead>\n",
       "    <tr style=\"text-align: right;\">\n",
       "      <th></th>\n",
       "      <th>Unnamed: 0</th>\n",
       "      <th>symbol</th>\n",
       "      <th>date</th>\n",
       "      <th>close</th>\n",
       "      <th>high</th>\n",
       "      <th>low</th>\n",
       "      <th>open</th>\n",
       "      <th>volumn</th>\n",
       "      <th>adjclose</th>\n",
       "      <th>adjhigh</th>\n",
       "      <th>adjlow</th>\n",
       "      <th>adjopen</th>\n",
       "      <th>adjvolumn</th>\n",
       "      <th>divcash</th>\n",
       "      <th>splitfactor</th>\n",
       "    </tr>\n",
       "  </thead>\n",
       "  <tbody>\n",
       "    <tr>\n",
       "      <th>0</th>\n",
       "      <td>0</td>\n",
       "      <td>AAPL</td>\n",
       "      <td>2015-05-27 00:00:00+00:00</td>\n",
       "      <td>132.045</td>\n",
       "      <td>132.260</td>\n",
       "      <td>130.05</td>\n",
       "      <td>130.34</td>\n",
       "      <td>45833246</td>\n",
       "      <td>121.682558</td>\n",
       "      <td>121.880685</td>\n",
       "      <td>119.844118</td>\n",
       "      <td>120.111360</td>\n",
       "      <td>45833246</td>\n",
       "      <td>0.0</td>\n",
       "      <td>1</td>\n",
       "    </tr>\n",
       "    <tr>\n",
       "      <th>1</th>\n",
       "      <td>1</td>\n",
       "      <td>AAPL</td>\n",
       "      <td>2015-05-28 00:00:00+00:00</td>\n",
       "      <td>131.780</td>\n",
       "      <td>131.950</td>\n",
       "      <td>131.10</td>\n",
       "      <td>131.86</td>\n",
       "      <td>30733309</td>\n",
       "      <td>121.438354</td>\n",
       "      <td>121.595013</td>\n",
       "      <td>120.811718</td>\n",
       "      <td>121.512076</td>\n",
       "      <td>30733309</td>\n",
       "      <td>0.0</td>\n",
       "      <td>1</td>\n",
       "    </tr>\n",
       "    <tr>\n",
       "      <th>2</th>\n",
       "      <td>2</td>\n",
       "      <td>AAPL</td>\n",
       "      <td>2015-05-29 00:00:00+00:00</td>\n",
       "      <td>130.280</td>\n",
       "      <td>131.450</td>\n",
       "      <td>129.90</td>\n",
       "      <td>131.23</td>\n",
       "      <td>50884452</td>\n",
       "      <td>120.056069</td>\n",
       "      <td>121.134251</td>\n",
       "      <td>119.705890</td>\n",
       "      <td>120.931516</td>\n",
       "      <td>50884452</td>\n",
       "      <td>0.0</td>\n",
       "      <td>1</td>\n",
       "    </tr>\n",
       "    <tr>\n",
       "      <th>3</th>\n",
       "      <td>3</td>\n",
       "      <td>AAPL</td>\n",
       "      <td>2015-06-01 00:00:00+00:00</td>\n",
       "      <td>130.535</td>\n",
       "      <td>131.390</td>\n",
       "      <td>130.05</td>\n",
       "      <td>131.20</td>\n",
       "      <td>32112797</td>\n",
       "      <td>120.291057</td>\n",
       "      <td>121.078960</td>\n",
       "      <td>119.844118</td>\n",
       "      <td>120.903870</td>\n",
       "      <td>32112797</td>\n",
       "      <td>0.0</td>\n",
       "      <td>1</td>\n",
       "    </tr>\n",
       "    <tr>\n",
       "      <th>4</th>\n",
       "      <td>4</td>\n",
       "      <td>AAPL</td>\n",
       "      <td>2015-06-02 00:00:00+00:00</td>\n",
       "      <td>129.960</td>\n",
       "      <td>130.655</td>\n",
       "      <td>129.32</td>\n",
       "      <td>129.86</td>\n",
       "      <td>33667627</td>\n",
       "      <td>119.761181</td>\n",
       "      <td>120.401640</td>\n",
       "      <td>119.171406</td>\n",
       "      <td>119.669029</td>\n",
       "      <td>33667627</td>\n",
       "      <td>0.0</td>\n",
       "      <td>1</td>\n",
       "    </tr>\n",
       "  </tbody>\n",
       "</table>\n",
       "</div>"
      ],
      "text/plain": [
       "   Unnamed: 0 symbol                       date    close     high     low  \\\n",
       "0           0   AAPL  2015-05-27 00:00:00+00:00  132.045  132.260  130.05   \n",
       "1           1   AAPL  2015-05-28 00:00:00+00:00  131.780  131.950  131.10   \n",
       "2           2   AAPL  2015-05-29 00:00:00+00:00  130.280  131.450  129.90   \n",
       "3           3   AAPL  2015-06-01 00:00:00+00:00  130.535  131.390  130.05   \n",
       "4           4   AAPL  2015-06-02 00:00:00+00:00  129.960  130.655  129.32   \n",
       "\n",
       "     open    volumn    adjclose     adjhigh      adjlow     adjopen  \\\n",
       "0  130.34  45833246  121.682558  121.880685  119.844118  120.111360   \n",
       "1  131.86  30733309  121.438354  121.595013  120.811718  121.512076   \n",
       "2  131.23  50884452  120.056069  121.134251  119.705890  120.931516   \n",
       "3  131.20  32112797  120.291057  121.078960  119.844118  120.903870   \n",
       "4  129.86  33667627  119.761181  120.401640  119.171406  119.669029   \n",
       "\n",
       "   adjvolumn  divcash  splitfactor  \n",
       "0   45833246      0.0            1  \n",
       "1   30733309      0.0            1  \n",
       "2   50884452      0.0            1  \n",
       "3   32112797      0.0            1  \n",
       "4   33667627      0.0            1  "
      ]
     },
     "execution_count": 109,
     "metadata": {},
     "output_type": "execute_result"
    }
   ],
   "source": [
    "data.head()"
   ]
  },
  {
   "cell_type": "code",
   "execution_count": 110,
   "metadata": {},
   "outputs": [
    {
     "data": {
      "text/html": [
       "<div>\n",
       "<style scoped>\n",
       "    .dataframe tbody tr th:only-of-type {\n",
       "        vertical-align: middle;\n",
       "    }\n",
       "\n",
       "    .dataframe tbody tr th {\n",
       "        vertical-align: top;\n",
       "    }\n",
       "\n",
       "    .dataframe thead th {\n",
       "        text-align: right;\n",
       "    }\n",
       "</style>\n",
       "<table border=\"1\" class=\"dataframe\">\n",
       "  <thead>\n",
       "    <tr style=\"text-align: right;\">\n",
       "      <th></th>\n",
       "      <th>Unnamed: 0</th>\n",
       "      <th>symbol</th>\n",
       "      <th>date</th>\n",
       "      <th>close</th>\n",
       "      <th>high</th>\n",
       "      <th>low</th>\n",
       "      <th>open</th>\n",
       "      <th>volumn</th>\n",
       "      <th>adjclose</th>\n",
       "      <th>adjhigh</th>\n",
       "      <th>adjlow</th>\n",
       "      <th>adjopen</th>\n",
       "      <th>adjvolumn</th>\n",
       "      <th>divcash</th>\n",
       "      <th>splitfactor</th>\n",
       "    </tr>\n",
       "  </thead>\n",
       "  <tbody>\n",
       "    <tr>\n",
       "      <th>1253</th>\n",
       "      <td>1253</td>\n",
       "      <td>AAPL</td>\n",
       "      <td>2020-05-18 00:00:00+00:00</td>\n",
       "      <td>314.96</td>\n",
       "      <td>316.50</td>\n",
       "      <td>310.3241</td>\n",
       "      <td>313.17</td>\n",
       "      <td>33843125</td>\n",
       "      <td>314.96</td>\n",
       "      <td>316.50</td>\n",
       "      <td>310.3241</td>\n",
       "      <td>313.17</td>\n",
       "      <td>33843125</td>\n",
       "      <td>0.0</td>\n",
       "      <td>1</td>\n",
       "    </tr>\n",
       "    <tr>\n",
       "      <th>1254</th>\n",
       "      <td>1254</td>\n",
       "      <td>AAPL</td>\n",
       "      <td>2020-05-19 00:00:00+00:00</td>\n",
       "      <td>313.14</td>\n",
       "      <td>318.52</td>\n",
       "      <td>313.0100</td>\n",
       "      <td>315.03</td>\n",
       "      <td>25432385</td>\n",
       "      <td>313.14</td>\n",
       "      <td>318.52</td>\n",
       "      <td>313.0100</td>\n",
       "      <td>315.03</td>\n",
       "      <td>25432385</td>\n",
       "      <td>0.0</td>\n",
       "      <td>1</td>\n",
       "    </tr>\n",
       "    <tr>\n",
       "      <th>1255</th>\n",
       "      <td>1255</td>\n",
       "      <td>AAPL</td>\n",
       "      <td>2020-05-20 00:00:00+00:00</td>\n",
       "      <td>319.23</td>\n",
       "      <td>319.52</td>\n",
       "      <td>316.2000</td>\n",
       "      <td>316.68</td>\n",
       "      <td>27876215</td>\n",
       "      <td>319.23</td>\n",
       "      <td>319.52</td>\n",
       "      <td>316.2000</td>\n",
       "      <td>316.68</td>\n",
       "      <td>27876215</td>\n",
       "      <td>0.0</td>\n",
       "      <td>1</td>\n",
       "    </tr>\n",
       "    <tr>\n",
       "      <th>1256</th>\n",
       "      <td>1256</td>\n",
       "      <td>AAPL</td>\n",
       "      <td>2020-05-21 00:00:00+00:00</td>\n",
       "      <td>316.85</td>\n",
       "      <td>320.89</td>\n",
       "      <td>315.8700</td>\n",
       "      <td>318.66</td>\n",
       "      <td>25672211</td>\n",
       "      <td>316.85</td>\n",
       "      <td>320.89</td>\n",
       "      <td>315.8700</td>\n",
       "      <td>318.66</td>\n",
       "      <td>25672211</td>\n",
       "      <td>0.0</td>\n",
       "      <td>1</td>\n",
       "    </tr>\n",
       "    <tr>\n",
       "      <th>1257</th>\n",
       "      <td>1257</td>\n",
       "      <td>AAPL</td>\n",
       "      <td>2020-05-22 00:00:00+00:00</td>\n",
       "      <td>318.89</td>\n",
       "      <td>319.23</td>\n",
       "      <td>315.3500</td>\n",
       "      <td>315.77</td>\n",
       "      <td>20450754</td>\n",
       "      <td>318.89</td>\n",
       "      <td>319.23</td>\n",
       "      <td>315.3500</td>\n",
       "      <td>315.77</td>\n",
       "      <td>20450754</td>\n",
       "      <td>0.0</td>\n",
       "      <td>1</td>\n",
       "    </tr>\n",
       "  </tbody>\n",
       "</table>\n",
       "</div>"
      ],
      "text/plain": [
       "      Unnamed: 0 symbol                       date   close    high       low  \\\n",
       "1253        1253   AAPL  2020-05-18 00:00:00+00:00  314.96  316.50  310.3241   \n",
       "1254        1254   AAPL  2020-05-19 00:00:00+00:00  313.14  318.52  313.0100   \n",
       "1255        1255   AAPL  2020-05-20 00:00:00+00:00  319.23  319.52  316.2000   \n",
       "1256        1256   AAPL  2020-05-21 00:00:00+00:00  316.85  320.89  315.8700   \n",
       "1257        1257   AAPL  2020-05-22 00:00:00+00:00  318.89  319.23  315.3500   \n",
       "\n",
       "        open    volumn  adjclose  adjhigh    adjlow  adjopen  adjvolumn  \\\n",
       "1253  313.17  33843125    314.96   316.50  310.3241   313.17   33843125   \n",
       "1254  315.03  25432385    313.14   318.52  313.0100   315.03   25432385   \n",
       "1255  316.68  27876215    319.23   319.52  316.2000   316.68   27876215   \n",
       "1256  318.66  25672211    316.85   320.89  315.8700   318.66   25672211   \n",
       "1257  315.77  20450754    318.89   319.23  315.3500   315.77   20450754   \n",
       "\n",
       "      divcash  splitfactor  \n",
       "1253      0.0            1  \n",
       "1254      0.0            1  \n",
       "1255      0.0            1  \n",
       "1256      0.0            1  \n",
       "1257      0.0            1  "
      ]
     },
     "execution_count": 110,
     "metadata": {},
     "output_type": "execute_result"
    }
   ],
   "source": [
    "data.tail()"
   ]
  },
  {
   "cell_type": "code",
   "execution_count": 111,
   "metadata": {},
   "outputs": [],
   "source": [
    "df1 = data.reset_index()['close']"
   ]
  },
  {
   "cell_type": "code",
   "execution_count": 112,
   "metadata": {},
   "outputs": [
    {
     "data": {
      "text/plain": [
       "0    132.045\n",
       "1    131.780\n",
       "2    130.280\n",
       "3    130.535\n",
       "4    129.960\n",
       "5    130.120\n",
       "6    129.360\n",
       "7    128.650\n",
       "8    127.800\n",
       "9    127.420\n",
       "Name: close, dtype: float64"
      ]
     },
     "execution_count": 112,
     "metadata": {},
     "output_type": "execute_result"
    }
   ],
   "source": [
    "df1.head(10)"
   ]
  },
  {
   "cell_type": "code",
   "execution_count": 113,
   "metadata": {},
   "outputs": [
    {
     "data": {
      "text/plain": [
       "[<matplotlib.lines.Line2D at 0x2ad2dd82b70>]"
      ]
     },
     "execution_count": 113,
     "metadata": {},
     "output_type": "execute_result"
    },
    {
     "data": {
      "image/png": "[encoded data removed]",
      "text/plain": [
       "<Figure size 432x288 with 1 Axes>"
      ]
     },
     "metadata": {
      "needs_background": "light"
     },
     "output_type": "display_data"
    }
   ],
   "source": [
    "plt.plot(df1)"
   ]
  },
  {
   "cell_type": "code",
   "execution_count": 114,
   "metadata": {},
   "outputs": [],
   "source": [
    "df2 = data.reset_index()['open']"
   ]
  },
  {
   "cell_type": "code",
   "execution_count": 115,
   "metadata": {},
   "outputs": [
    {
     "data": {
      "text/plain": [
       "[<matplotlib.lines.Line2D at 0x2ad2ede9550>]"
      ]
     },
     "execution_count": 115,
     "metadata": {},
     "output_type": "execute_result"
    },
    {
     "data": {
      "image/png": "[encoded data removed]",
      "text/plain": [
       "<Figure size 432x288 with 1 Axes>"
      ]
     },
     "metadata": {
      "needs_background": "light"
     },
     "output_type": "display_data"
    }
   ],
   "source": [
    "plt.plot(df2)"
   ]
  },
  {
   "cell_type": "code",
   "execution_count": 116,
   "metadata": {},
   "outputs": [],
   "source": [
    "df3 = data.reset_index()['volumn']"
   ]
  },
  {
   "cell_type": "code",
   "execution_count": 117,
   "metadata": {},
   "outputs": [
    {
     "data": {
      "text/plain": [
       "[<matplotlib.lines.Line2D at 0x2ad2ee573c8>]"
      ]
     },
     "execution_count": 117,
     "metadata": {},
     "output_type": "execute_result"
    },
    {
     "data": {
      "image/png": "[encoded data removed]",
      "text/plain": [
       "<Figure size 432x288 with 1 Axes>"
      ]
     },
     "metadata": {
      "needs_background": "light"
     },
     "output_type": "display_data"
    }
   ],
   "source": [
    "plt.plot(df3)"
   ]
  },
  {
   "cell_type": "code",
   "execution_count": 118,
   "metadata": {},
   "outputs": [
    {
     "data": {
      "text/plain": [
       "<matplotlib.legend.Legend at 0x2ad2ee69198>"
      ]
     },
     "execution_count": 118,
     "metadata": {},
     "output_type": "execute_result"
    },
    {
     "data": {
      "image/png": "[encoded data removed]",
      "text/plain": [
       "<Figure size 432x288 with 1 Axes>"
      ]
     },
     "metadata": {
      "needs_background": "light"
     },
     "output_type": "display_data"
    }
   ],
   "source": [
    "fig = plt.figure()\n",
    "ax = fig.add_subplot(111)\n",
    "data[\"volumn\"].plot(kind=\"kde\",ax=ax,color=\"green\")\n",
    "data.open.plot(kind='kde',ax=ax,color=\"blue\")\n",
    "lines,labels = ax.get_legend_handles_labels()\n",
    "ax.legend(lines,labels,loc=\"best\")"
   ]
  },
  {
   "cell_type": "code",
   "execution_count": 119,
   "metadata": {},
   "outputs": [
    {
     "data": {
      "text/plain": [
       "<matplotlib.legend.Legend at 0x2ad2ee42ac8>"
      ]
     },
     "execution_count": 119,
     "metadata": {},
     "output_type": "execute_result"
    },
    {
     "data": {
      "image/png": "[encoded data removed]",
      "text/plain": [
       "<Figure size 432x288 with 1 Axes>"
      ]
     },
     "metadata": {
      "needs_background": "light"
     },
     "output_type": "display_data"
    }
   ],
   "source": [
    "fig = plt.figure()\n",
    "ax = fig.add_subplot(111)\n",
    "data[\"high\"].plot(kind=\"kde\",ax=ax,color=\"green\")\n",
    "data.open.plot(kind='kde',ax=ax,color=\"blue\")\n",
    "lines,labels = ax.get_legend_handles_labels()\n",
    "ax.legend(lines,labels,loc=\"best\")"
   ]
  },
  {
   "cell_type": "code",
   "execution_count": 120,
   "metadata": {},
   "outputs": [
    {
     "data": {
      "text/plain": [
       "<matplotlib.legend.Legend at 0x2ad2ef2bd30>"
      ]
     },
     "execution_count": 120,
     "metadata": {},
     "output_type": "execute_result"
    },
    {
     "data": {
      "image/png": "[encoded data removed]",
      "text/plain": [
       "<Figure size 432x288 with 1 Axes>"
      ]
     },
     "metadata": {
      "needs_background": "light"
     },
     "output_type": "display_data"
    }
   ],
   "source": [
    "fig = plt.figure()\n",
    "ax = fig.add_subplot(111)\n",
    "data[\"adjopen\"].plot(kind=\"kde\",ax=ax,color=\"green\")\n",
    "data.open.plot(kind='kde',ax=ax,color=\"blue\")\n",
    "lines,labels = ax.get_legend_handles_labels()\n",
    "ax.legend(lines,labels,loc=\"best\")"
   ]
  },
  {
   "cell_type": "code",
   "execution_count": 121,
   "metadata": {},
   "outputs": [
    {
     "data": {
      "text/plain": [
       "Index(['Unnamed: 0', 'symbol', 'date', 'close', 'high', 'low', 'open',\n",
       "       'volumn', 'adjclose', 'adjhigh', 'adjlow', 'adjopen', 'adjvolumn',\n",
       "       'divcash', 'splitfactor'],\n",
       "      dtype='object')"
      ]
     },
     "execution_count": 121,
     "metadata": {},
     "output_type": "execute_result"
    }
   ],
   "source": [
    "data.columns"
   ]
  },
  {
   "cell_type": "code",
   "execution_count": 122,
   "metadata": {},
   "outputs": [
    {
     "data": {
      "text/plain": [
       "<matplotlib.legend.Legend at 0x2ad2efcedd8>"
      ]
     },
     "execution_count": 122,
     "metadata": {},
     "output_type": "execute_result"
    },
    {
     "data": {
      "image/png": "[encoded data removed]",
      "text/plain": [
       "<Figure size 432x288 with 1 Axes>"
      ]
     },
     "metadata": {
      "needs_background": "light"
     },
     "output_type": "display_data"
    }
   ],
   "source": [
    "fig = plt.figure()\n",
    "ax = fig.add_subplot(111)\n",
    "data[\"adjclose\"].plot(kind=\"kde\",ax=ax,color=\"green\")\n",
    "data.close.plot(kind='kde',ax=ax,color=\"blue\")\n",
    "lines,labels = ax.get_legend_handles_labels()\n",
    "ax.legend(lines,labels,loc=\"best\")"
   ]
  },
  {
   "cell_type": "code",
   "execution_count": 123,
   "metadata": {},
   "outputs": [
    {
     "data": {
      "text/plain": [
       "<matplotlib.legend.Legend at 0x2ad2dd265f8>"
      ]
     },
     "execution_count": 123,
     "metadata": {},
     "output_type": "execute_result"
    },
    {
     "data": {
      "image/png": "[encoded data removed]",
      "text/plain": [
       "<Figure size 432x288 with 1 Axes>"
      ]
     },
     "metadata": {
      "needs_background": "light"
     },
     "output_type": "display_data"
    }
   ],
   "source": [
    "fig = plt.figure()\n",
    "ax = fig.add_subplot(111)\n",
    "data[\"adjopen\"].plot(kind=\"kde\",ax=ax,color=\"green\")\n",
    "data.open.plot(kind='kde',ax=ax,color=\"blue\")\n",
    "lines,labels = ax.get_legend_handles_labels()\n",
    "ax.legend(lines,labels,loc=\"best\")"
   ]
  },
  {
   "cell_type": "code",
   "execution_count": 124,
   "metadata": {},
   "outputs": [
    {
     "data": {
      "text/plain": [
       "<matplotlib.legend.Legend at 0x2ad2bc25630>"
      ]
     },
     "execution_count": 124,
     "metadata": {},
     "output_type": "execute_result"
    },
    {
     "data": {
      "image/png": "[encoded data removed]",
      "text/plain": [
       "<Figure size 432x288 with 1 Axes>"
      ]
     },
     "metadata": {
      "needs_background": "light"
     },
     "output_type": "display_data"
    }
   ],
   "source": [
    "fig = plt.figure()\n",
    "ax = fig.add_subplot(111)\n",
    "data[\"adjvolumn\"].plot(kind=\"kde\",ax=ax,color=\"green\")\n",
    "data.volumn.plot(kind='kde',ax=ax,color=\"blue\")\n",
    "lines,labels = ax.get_legend_handles_labels()\n",
    "ax.legend(lines,labels,loc=\"best\")"
   ]
  },
  {
   "cell_type": "code",
   "execution_count": 125,
   "metadata": {},
   "outputs": [],
   "source": [
    "from sklearn.preprocessing import MinMaxScaler\n",
    "scaler = MinMaxScaler(feature_range=(0,1))\n",
    "df1 = scaler.fit_transform(np.array(df1).reshape(-1,1))"
   ]
  },
  {
   "cell_type": "code",
   "execution_count": 126,
   "metadata": {},
   "outputs": [
    {
     "data": {
      "text/plain": [
       "(1258, 1)"
      ]
     },
     "execution_count": 126,
     "metadata": {},
     "output_type": "execute_result"
    }
   ],
   "source": [
    "df1.shape"
   ]
  },
  {
   "cell_type": "code",
   "execution_count": 127,
   "metadata": {},
   "outputs": [
    {
     "data": {
      "text/plain": [
       "array([[0.17607447],\n",
       "       [0.17495567],\n",
       "       [0.16862282],\n",
       "       ...,\n",
       "       [0.96635143],\n",
       "       [0.9563033 ],\n",
       "       [0.96491598]])"
      ]
     },
     "execution_count": 127,
     "metadata": {},
     "output_type": "execute_result"
    }
   ],
   "source": [
    "df1"
   ]
  },
  {
   "cell_type": "code",
   "execution_count": 128,
   "metadata": {},
   "outputs": [],
   "source": [
    "###spliting data\n",
    "train_size = int(len(df1)*0.65)\n",
    "test_size = len(df1)-train_size"
   ]
  },
  {
   "cell_type": "code",
   "execution_count": 129,
   "metadata": {},
   "outputs": [],
   "source": [
    "train_data,test_data = df1[0:train_size,:],df1[train_size:len(df1),:1]"
   ]
  },
  {
   "cell_type": "code",
   "execution_count": 130,
   "metadata": {},
   "outputs": [
    {
     "data": {
      "text/plain": [
       "(817, 441)"
      ]
     },
     "execution_count": 130,
     "metadata": {},
     "output_type": "execute_result"
    }
   ],
   "source": [
    "len(train_data),len(test_data)"
   ]
  },
  {
   "cell_type": "code",
   "execution_count": 131,
   "metadata": {},
   "outputs": [],
   "source": [
    "import numpy as np\n",
    "def create_dataset(dataset,time_step=1):\n",
    "    dataX,datay = [],[]\n",
    "    for i in range(len(dataset)-time_step-1):\n",
    "        a = dataset[i:(i+time_step),0]\n",
    "        dataX.append(a)\n",
    "        datay.append(dataset[i+time_step,0])\n",
    "    return np.array(dataX),np.array(datay)    \n"
   ]
  },
  {
   "cell_type": "code",
   "execution_count": 132,
   "metadata": {
    "scrolled": true
   },
   "outputs": [],
   "source": [
    "time_step = 100\n",
    "X_train,y_train = create_dataset(train_data,time_step)\n",
    "X_test,y_test = create_dataset(test_data,time_step)"
   ]
  },
  {
   "cell_type": "code",
   "execution_count": 133,
   "metadata": {},
   "outputs": [
    {
     "name": "stdout",
     "output_type": "stream",
     "text": [
      "[[0.17607447 0.17495567 0.16862282 ... 0.09055982 0.08388922 0.09085536]\n",
      " [0.17495567 0.16862282 0.1696994  ... 0.08388922 0.09085536 0.0873934 ]\n",
      " [0.16862282 0.1696994  0.16727181 ... 0.09085536 0.0873934  0.09030651]\n",
      " ...\n",
      " [0.34801148 0.32930845 0.32145571 ... 0.50042219 0.50413747 0.5062062 ]\n",
      " [0.32930845 0.32145571 0.32694419 ... 0.50413747 0.5062062  0.51920966]\n",
      " [0.32145571 0.32694419 0.32230009 ... 0.5062062  0.51920966 0.53719497]]\n"
     ]
    }
   ],
   "source": [
    "print(X_train)"
   ]
  },
  {
   "cell_type": "code",
   "execution_count": 134,
   "metadata": {},
   "outputs": [
    {
     "name": "stdout",
     "output_type": "stream",
     "text": [
      "(716, 100)\n",
      "(716,)\n"
     ]
    },
    {
     "data": {
      "text/plain": [
       "(None, None)"
      ]
     },
     "execution_count": 134,
     "metadata": {},
     "output_type": "execute_result"
    }
   ],
   "source": [
    "print(X_train.shape),print(y_train.shape)"
   ]
  },
  {
   "cell_type": "code",
   "execution_count": 135,
   "metadata": {},
   "outputs": [
    {
     "name": "stdout",
     "output_type": "stream",
     "text": [
      "(340, 100)\n",
      "(340,)\n"
     ]
    },
    {
     "data": {
      "text/plain": [
       "(None, None)"
      ]
     },
     "execution_count": 135,
     "metadata": {},
     "output_type": "execute_result"
    }
   ],
   "source": [
    "print(X_test.shape),print(y_test.shape)"
   ]
  },
  {
   "cell_type": "code",
   "execution_count": 136,
   "metadata": {},
   "outputs": [],
   "source": [
    "### for lstm model we need to convert our xtrain into 3d array\n",
    "X_train = X_train.reshape(X_train.shape[0],X_train.shape[1],1)\n",
    "X_test = X_test.reshape(X_test.shape[0],X_test.shape[1],1)"
   ]
  },
  {
   "cell_type": "code",
   "execution_count": 137,
   "metadata": {},
   "outputs": [],
   "source": [
    "from tensorflow.keras.models import Sequential\n",
    "from tensorflow.keras.layers import Dense\n",
    "from tensorflow.keras.layers import LSTM"
   ]
  },
  {
   "cell_type": "code",
   "execution_count": 388,
   "metadata": {},
   "outputs": [],
   "source": [
    "model = Sequential()\n",
    "model.add(LSTM(50,return_sequences = True,input_shape = (100,1)))\n",
    "model.add(LSTM(50,return_sequences = True))\n",
    "model.add(LSTM(50))\n",
    "model.add(Dense(1))\n",
    "model.compile(loss= 'mean_squared_error',optimizer = 'adam')"
   ]
  },
  {
   "cell_type": "code",
   "execution_count": 389,
   "metadata": {},
   "outputs": [
    {
     "name": "stdout",
     "output_type": "stream",
     "text": [
      "Epoch 1/100\n",
      "12/12 [==============================] - 4s 373ms/step - loss: 0.0149 - val_loss: 0.0568\n",
      "Epoch 2/100\n",
      "12/12 [==============================] - 2s 204ms/step - loss: 0.0025 - val_loss: 0.0080\n",
      "Epoch 3/100\n",
      "12/12 [==============================] - 2s 176ms/step - loss: 9.2381e-04 - val_loss: 0.0042\n",
      "Epoch 4/100\n",
      "12/12 [==============================] - 2s 194ms/step - loss: 7.2628e-04 - val_loss: 0.0045\n",
      "Epoch 5/100\n",
      "12/12 [==============================] - 2s 169ms/step - loss: 6.5031e-04 - val_loss: 0.0047\n",
      "Epoch 6/100\n",
      "12/12 [==============================] - 2s 191ms/step - loss: 6.3395e-04 - val_loss: 0.0051\n",
      "Epoch 7/100\n",
      "12/12 [==============================] - 2s 183ms/step - loss: 6.3118e-04 - val_loss: 0.0053\n",
      "Epoch 8/100\n",
      "12/12 [==============================] - 2s 181ms/step - loss: 6.1881e-04 - val_loss: 0.0047\n",
      "Epoch 9/100\n",
      "12/12 [==============================] - 2s 188ms/step - loss: 6.0509e-04 - val_loss: 0.0044\n",
      "Epoch 10/100\n",
      "12/12 [==============================] - 2s 169ms/step - loss: 5.8929e-04 - val_loss: 0.0044\n",
      "Epoch 11/100\n",
      "12/12 [==============================] - 2s 170ms/step - loss: 5.9913e-04 - val_loss: 0.0048\n",
      "Epoch 12/100\n",
      "12/12 [==============================] - 2s 190ms/step - loss: 5.7967e-04 - val_loss: 0.0041\n",
      "Epoch 13/100\n",
      "12/12 [==============================] - 2s 170ms/step - loss: 5.6977e-04 - val_loss: 0.0040\n",
      "Epoch 14/100\n",
      "12/12 [==============================] - 2s 172ms/step - loss: 5.6108e-04 - val_loss: 0.0035\n",
      "Epoch 15/100\n",
      "12/12 [==============================] - 2s 181ms/step - loss: 5.5640e-04 - val_loss: 0.0035\n",
      "Epoch 16/100\n",
      "12/12 [==============================] - 3s 212ms/step - loss: 5.3706e-04 - val_loss: 0.0041\n",
      "Epoch 17/100\n",
      "12/12 [==============================] - 2s 171ms/step - loss: 5.8110e-04 - val_loss: 0.0031\n",
      "Epoch 18/100\n",
      "12/12 [==============================] - 2s 170ms/step - loss: 6.3972e-04 - val_loss: 0.0028\n",
      "Epoch 19/100\n",
      "12/12 [==============================] - 2s 170ms/step - loss: 5.3355e-04 - val_loss: 0.0040\n",
      "Epoch 20/100\n",
      "12/12 [==============================] - 2s 169ms/step - loss: 5.1540e-04 - val_loss: 0.0030\n",
      "Epoch 21/100\n",
      "12/12 [==============================] - 2s 177ms/step - loss: 5.0174e-04 - val_loss: 0.0032\n",
      "Epoch 22/100\n",
      "12/12 [==============================] - 2s 175ms/step - loss: 5.4559e-04 - val_loss: 0.0026\n",
      "Epoch 23/100\n",
      "12/12 [==============================] - 2s 171ms/step - loss: 5.0060e-04 - val_loss: 0.0023\n",
      "Epoch 24/100\n",
      "12/12 [==============================] - 2s 169ms/step - loss: 4.6399e-04 - val_loss: 0.0033\n",
      "Epoch 25/100\n",
      "12/12 [==============================] - 2s 173ms/step - loss: 4.8672e-04 - val_loss: 0.0026\n",
      "Epoch 26/100\n",
      "12/12 [==============================] - 2s 169ms/step - loss: 4.4649e-04 - val_loss: 0.0020\n",
      "Epoch 27/100\n",
      "12/12 [==============================] - 2s 171ms/step - loss: 4.3085e-04 - val_loss: 0.0021\n",
      "Epoch 28/100\n",
      "12/12 [==============================] - 2s 178ms/step - loss: 4.2457e-04 - val_loss: 0.0018\n",
      "Epoch 29/100\n",
      "12/12 [==============================] - 2s 190ms/step - loss: 4.6491e-04 - val_loss: 0.0019\n",
      "Epoch 30/100\n",
      "12/12 [==============================] - 2s 174ms/step - loss: 4.0971e-04 - val_loss: 0.0027\n",
      "Epoch 31/100\n",
      "12/12 [==============================] - 2s 171ms/step - loss: 4.4847e-04 - val_loss: 0.0021\n",
      "Epoch 32/100\n",
      "12/12 [==============================] - 2s 182ms/step - loss: 4.2050e-04 - val_loss: 0.0018\n",
      "Epoch 33/100\n",
      "12/12 [==============================] - 2s 171ms/step - loss: 3.9017e-04 - val_loss: 0.0017\n",
      "Epoch 34/100\n",
      "12/12 [==============================] - 2s 178ms/step - loss: 3.8826e-04 - val_loss: 0.0028\n",
      "Epoch 35/100\n",
      "12/12 [==============================] - 2s 171ms/step - loss: 4.0574e-04 - val_loss: 0.0018\n",
      "Epoch 36/100\n",
      "12/12 [==============================] - 2s 183ms/step - loss: 3.7920e-04 - val_loss: 0.0018\n",
      "Epoch 37/100\n",
      "12/12 [==============================] - 2s 172ms/step - loss: 3.8895e-04 - val_loss: 0.0027\n",
      "Epoch 38/100\n",
      "12/12 [==============================] - 2s 169ms/step - loss: 3.6449e-04 - val_loss: 0.0033\n",
      "Epoch 39/100\n",
      "12/12 [==============================] - 2s 171ms/step - loss: 3.5827e-04 - val_loss: 0.0015\n",
      "Epoch 40/100\n",
      "12/12 [==============================] - 2s 170ms/step - loss: 4.1914e-04 - val_loss: 0.0019\n",
      "Epoch 41/100\n",
      "12/12 [==============================] - 2s 170ms/step - loss: 3.9568e-04 - val_loss: 0.0025\n",
      "Epoch 42/100\n",
      "12/12 [==============================] - 2s 172ms/step - loss: 3.5294e-04 - val_loss: 0.0024\n",
      "Epoch 43/100\n",
      "12/12 [==============================] - 2s 170ms/step - loss: 3.5331e-04 - val_loss: 0.0026\n",
      "Epoch 44/100\n",
      "12/12 [==============================] - 3s 210ms/step - loss: 4.9664e-04 - val_loss: 0.0015\n",
      "Epoch 45/100\n",
      "12/12 [==============================] - 3s 216ms/step - loss: 5.0814e-04 - val_loss: 0.0032\n",
      "Epoch 46/100\n",
      "12/12 [==============================] - 2s 171ms/step - loss: 3.9060e-04 - val_loss: 0.0021\n",
      "Epoch 47/100\n",
      "12/12 [==============================] - 2s 179ms/step - loss: 3.7716e-04 - val_loss: 0.0023\n",
      "Epoch 48/100\n",
      "12/12 [==============================] - 2s 171ms/step - loss: 3.1489e-04 - val_loss: 0.0021\n",
      "Epoch 49/100\n",
      "12/12 [==============================] - 2s 173ms/step - loss: 3.0923e-04 - val_loss: 0.0019\n",
      "Epoch 50/100\n",
      "12/12 [==============================] - 2s 170ms/step - loss: 3.0924e-04 - val_loss: 0.0017\n",
      "Epoch 51/100\n",
      "12/12 [==============================] - 2s 171ms/step - loss: 3.0971e-04 - val_loss: 0.0020\n",
      "Epoch 52/100\n",
      "12/12 [==============================] - 2s 174ms/step - loss: 3.2690e-04 - val_loss: 0.0019\n",
      "Epoch 53/100\n",
      "12/12 [==============================] - 2s 184ms/step - loss: 2.8807e-04 - val_loss: 0.0021\n",
      "Epoch 54/100\n",
      "12/12 [==============================] - 2s 172ms/step - loss: 2.8332e-04 - val_loss: 0.0014\n",
      "Epoch 55/100\n",
      "12/12 [==============================] - 2s 173ms/step - loss: 3.0795e-04 - val_loss: 0.0030\n",
      "Epoch 56/100\n",
      "12/12 [==============================] - 2s 171ms/step - loss: 3.3946e-04 - val_loss: 0.0015\n",
      "Epoch 57/100\n",
      "12/12 [==============================] - 2s 171ms/step - loss: 2.7169e-04 - val_loss: 0.0015\n",
      "Epoch 58/100\n",
      "12/12 [==============================] - 2s 171ms/step - loss: 3.2754e-04 - val_loss: 0.0021\n",
      "Epoch 59/100\n",
      "12/12 [==============================] - 2s 171ms/step - loss: 2.7126e-04 - val_loss: 0.0015\n",
      "Epoch 60/100\n",
      "12/12 [==============================] - 2s 171ms/step - loss: 2.5782e-04 - val_loss: 0.0015\n",
      "Epoch 61/100\n",
      "12/12 [==============================] - 2s 170ms/step - loss: 2.5334e-04 - val_loss: 0.0020\n",
      "Epoch 62/100\n",
      "12/12 [==============================] - 2s 171ms/step - loss: 2.6171e-04 - val_loss: 0.0013\n",
      "Epoch 63/100\n",
      "12/12 [==============================] - 2s 170ms/step - loss: 2.5214e-04 - val_loss: 0.0025\n",
      "Epoch 64/100\n",
      "12/12 [==============================] - 2s 171ms/step - loss: 2.6766e-04 - val_loss: 0.0012\n",
      "Epoch 65/100\n",
      "12/12 [==============================] - 2s 173ms/step - loss: 2.4036e-04 - val_loss: 0.0012\n",
      "Epoch 66/100\n",
      "12/12 [==============================] - 2s 185ms/step - loss: 2.4907e-04 - val_loss: 0.0012\n",
      "Epoch 67/100\n",
      "12/12 [==============================] - 2s 186ms/step - loss: 2.4613e-04 - val_loss: 0.0012\n",
      "Epoch 68/100\n",
      "12/12 [==============================] - 2s 177ms/step - loss: 2.3619e-04 - val_loss: 0.0014\n",
      "Epoch 69/100\n",
      "12/12 [==============================] - 2s 171ms/step - loss: 2.4023e-04 - val_loss: 0.0017\n",
      "Epoch 70/100\n",
      "12/12 [==============================] - 2s 171ms/step - loss: 2.2799e-04 - val_loss: 0.0013\n",
      "Epoch 71/100\n",
      "12/12 [==============================] - 2s 170ms/step - loss: 2.1809e-04 - val_loss: 0.0014\n",
      "Epoch 72/100\n",
      "12/12 [==============================] - 2s 169ms/step - loss: 2.1707e-04 - val_loss: 0.0013\n",
      "Epoch 73/100\n",
      "12/12 [==============================] - 2s 172ms/step - loss: 2.3658e-04 - val_loss: 0.0011\n",
      "Epoch 74/100\n",
      "12/12 [==============================] - 2s 171ms/step - loss: 2.1102e-04 - val_loss: 0.0011\n",
      "Epoch 75/100\n",
      "12/12 [==============================] - 2s 170ms/step - loss: 2.1646e-04 - val_loss: 0.0013\n",
      "Epoch 76/100\n",
      "12/12 [==============================] - 2s 172ms/step - loss: 2.1224e-04 - val_loss: 0.0013\n",
      "Epoch 77/100\n",
      "12/12 [==============================] - 2s 171ms/step - loss: 2.0140e-04 - val_loss: 0.0016\n",
      "Epoch 78/100\n",
      "12/12 [==============================] - 2s 170ms/step - loss: 1.9115e-04 - val_loss: 0.0010\n",
      "Epoch 79/100\n",
      "12/12 [==============================] - 2s 173ms/step - loss: 1.8915e-04 - val_loss: 0.0017\n",
      "Epoch 80/100\n",
      "12/12 [==============================] - 2s 182ms/step - loss: 2.1558e-04 - val_loss: 0.0010\n",
      "Epoch 81/100\n",
      "12/12 [==============================] - 2s 168ms/step - loss: 2.1021e-04 - val_loss: 0.0014\n",
      "Epoch 82/100\n",
      "12/12 [==============================] - 2s 168ms/step - loss: 2.0239e-04 - val_loss: 0.0010\n",
      "Epoch 83/100\n",
      "12/12 [==============================] - 2s 170ms/step - loss: 1.7980e-04 - val_loss: 0.0011\n",
      "Epoch 84/100\n",
      "12/12 [==============================] - 2s 170ms/step - loss: 1.7187e-04 - val_loss: 9.5223e-04\n",
      "Epoch 85/100\n",
      "12/12 [==============================] - 2s 170ms/step - loss: 1.6722e-04 - val_loss: 9.6851e-04\n",
      "Epoch 86/100\n",
      "12/12 [==============================] - 2s 178ms/step - loss: 1.6660e-04 - val_loss: 9.6886e-04\n",
      "Epoch 87/100\n",
      "12/12 [==============================] - 2s 170ms/step - loss: 1.6119e-04 - val_loss: 0.0011\n",
      "Epoch 88/100\n",
      "12/12 [==============================] - 2s 169ms/step - loss: 1.6630e-04 - val_loss: 0.0011\n",
      "Epoch 89/100\n",
      "12/12 [==============================] - 2s 170ms/step - loss: 1.8749e-04 - val_loss: 8.9723e-04\n",
      "Epoch 90/100\n",
      "12/12 [==============================] - 2s 168ms/step - loss: 2.1364e-04 - val_loss: 9.8221e-04\n",
      "Epoch 91/100\n",
      "12/12 [==============================] - 2s 168ms/step - loss: 1.7196e-04 - val_loss: 0.0012\n",
      "Epoch 92/100\n",
      "12/12 [==============================] - 2s 171ms/step - loss: 1.8282e-04 - val_loss: 0.0012\n",
      "Epoch 93/100\n",
      "12/12 [==============================] - 2s 170ms/step - loss: 2.0521e-04 - val_loss: 0.0013\n",
      "Epoch 94/100\n",
      "12/12 [==============================] - 2s 169ms/step - loss: 1.8703e-04 - val_loss: 8.9956e-04\n",
      "Epoch 95/100\n",
      "12/12 [==============================] - 2s 169ms/step - loss: 1.5866e-04 - val_loss: 8.8822e-04\n",
      "Epoch 96/100\n",
      "12/12 [==============================] - 2s 170ms/step - loss: 1.4583e-04 - val_loss: 9.8234e-04\n",
      "Epoch 97/100\n",
      "12/12 [==============================] - 2s 180ms/step - loss: 1.4653e-04 - val_loss: 9.4081e-04\n",
      "Epoch 98/100\n",
      "12/12 [==============================] - 2s 169ms/step - loss: 1.9746e-04 - val_loss: 9.0848e-04\n",
      "Epoch 99/100\n",
      "12/12 [==============================] - 2s 168ms/step - loss: 1.4321e-04 - val_loss: 8.2630e-04\n",
      "Epoch 100/100\n",
      "12/12 [==============================] - 2s 170ms/step - loss: 1.4163e-04 - val_loss: 8.8834e-04\n"
     ]
    },
    {
     "data": {
      "text/plain": [
       "<tensorflow.python.keras.callbacks.History at 0x2ad377fe630>"
      ]
     },
     "execution_count": 389,
     "metadata": {},
     "output_type": "execute_result"
    }
   ],
   "source": [
    "model.fit(X_train,y_train,validation_data = (X_test,y_test),verbose = 1,epochs = 100,batch_size = 64)"
   ]
  },
  {
   "cell_type": "code",
   "execution_count": 390,
   "metadata": {},
   "outputs": [
    {
     "name": "stdout",
     "output_type": "stream",
     "text": [
      "Model: \"sequential_6\"\n",
      "_________________________________________________________________\n",
      "Layer (type)                 Output Shape              Param #   \n",
      "=================================================================\n",
      "lstm_6 (LSTM)                (None, 100, 50)           10400     \n",
      "_________________________________________________________________\n",
      "lstm_7 (LSTM)                (None, 100, 50)           20200     \n",
      "_________________________________________________________________\n",
      "lstm_8 (LSTM)                (None, 50)                20200     \n",
      "_________________________________________________________________\n",
      "dense_2 (Dense)              (None, 1)                 51        \n",
      "=================================================================\n",
      "Total params: 50,851\n",
      "Trainable params: 50,851\n",
      "Non-trainable params: 0\n",
      "_________________________________________________________________\n"
     ]
    }
   ],
   "source": [
    "model.summary()"
   ]
  },
  {
   "cell_type": "code",
   "execution_count": 391,
   "metadata": {},
   "outputs": [],
   "source": [
    "train_predict = model.predict(X_train)\n",
    "test_predict = model.predict(X_test)"
   ]
  },
  {
   "cell_type": "code",
   "execution_count": 392,
   "metadata": {},
   "outputs": [],
   "source": [
    "train_predict = scaler.inverse_transform(train_predict)\n",
    "test_predict = scaler.inverse_transform(test_predict)"
   ]
  },
  {
   "cell_type": "code",
   "execution_count": 393,
   "metadata": {},
   "outputs": [],
   "source": [
    "import math\n",
    "from sklearn.metrics import mean_squared_error"
   ]
  },
  {
   "cell_type": "code",
   "execution_count": 394,
   "metadata": {},
   "outputs": [
    {
     "data": {
      "text/plain": [
       "141.46220217897172"
      ]
     },
     "execution_count": 394,
     "metadata": {},
     "output_type": "execute_result"
    }
   ],
   "source": [
    "math.sqrt(mean_squared_error(y_train,train_predict))"
   ]
  },
  {
   "cell_type": "code",
   "execution_count": 395,
   "metadata": {},
   "outputs": [
    {
     "data": {
      "text/plain": [
       "235.7519507968253"
      ]
     },
     "execution_count": 395,
     "metadata": {},
     "output_type": "execute_result"
    }
   ],
   "source": [
    "math.sqrt(mean_squared_error(y_test,test_predict))"
   ]
  },
  {
   "cell_type": "code",
   "execution_count": 396,
   "metadata": {},
   "outputs": [
    {
     "data": {
      "image/png": "[encoded data removed]",
      "text/plain": [
       "<Figure size 432x288 with 1 Axes>"
      ]
     },
     "metadata": {
      "needs_background": "light"
     },
     "output_type": "display_data"
    }
   ],
   "source": [
    "###plotting graph\n",
    "\n",
    "look_back = 100\n",
    "trainPredictPlot = np.empty_like(df1)\n",
    "trainPredictPlot[:,:]=np.nan\n",
    "trainPredictPlot[look_back:len(train_predict)+look_back,:] = train_predict\n",
    "\n",
    "testPredictPlot = np.empty_like(df1)\n",
    "testPredictPlot[:,:]=np.nan\n",
    "testPredictPlot[len(train_predict)+(look_back*2)+1:len(df1)-1,:]=test_predict\n",
    "\n",
    "\n",
    "plt.plot(scaler.inverse_transform(df1))\n",
    "plt.plot(trainPredictPlot)\n",
    "plt.plot(testPredictPlot)\n",
    "plt.plot(testPredictPlot)\n",
    "plt.show()"
   ]
  },
  {
   "cell_type": "code",
   "execution_count": 397,
   "metadata": {},
   "outputs": [
    {
     "data": {
      "text/plain": [
       "441"
      ]
     },
     "execution_count": 397,
     "metadata": {},
     "output_type": "execute_result"
    }
   ],
   "source": [
    "len(test_data)"
   ]
  },
  {
   "cell_type": "code",
   "execution_count": 398,
   "metadata": {},
   "outputs": [
    {
     "data": {
      "text/plain": [
       "(1, 100)"
      ]
     },
     "execution_count": 398,
     "metadata": {},
     "output_type": "execute_result"
    }
   ],
   "source": [
    "X_input = test_data[341:].reshape(1,-1)\n",
    "X_input.shape"
   ]
  },
  {
   "cell_type": "code",
   "execution_count": 399,
   "metadata": {},
   "outputs": [
    {
     "data": {
      "text/plain": [
       "array([[0.85835515, 0.8866419 , 0.87431394, 0.88431985, 0.87836697,\n",
       "        0.8986321 , 0.92582116, 0.92877649, 0.95676771, 0.93869797,\n",
       "        0.93304061, 0.94950604, 0.96424048, 0.95512117, 0.95989192,\n",
       "        0.96635143, 0.96246728, 0.92295027, 0.9598497 , 0.98792536,\n",
       "        0.98594106, 0.92531453, 0.92172591, 0.96474711, 0.97572406,\n",
       "        0.99159841, 0.96972895, 0.97614625, 0.96795575, 1.        ,\n",
       "        0.99016297, 0.99050072, 0.96538039, 0.98488559, 0.97086887,\n",
       "        0.94026007, 0.87748037, 0.83483915, 0.85413324, 0.77336823,\n",
       "        0.77269273, 0.88014017, 0.84007431, 0.89673225, 0.85527316,\n",
       "        0.83884995, 0.74233725, 0.82327113, 0.78143207, 0.6665963 ,\n",
       "        0.7921557 , 0.64118044, 0.68614371, 0.66001013, 0.65203074,\n",
       "        0.58642236, 0.56586169, 0.66089673, 0.65515494, 0.70970193,\n",
       "        0.66452757, 0.69437642, 0.69218104, 0.63569197, 0.65266402,\n",
       "        0.63780292, 0.7267162 , 0.71388162, 0.74191506, 0.75002111,\n",
       "        0.77222832, 0.83049059, 0.8194292 , 0.8289707 , 0.8125475 ,\n",
       "        0.78776492, 0.75162543, 0.78426074, 0.77974331, 0.81326522,\n",
       "        0.8141096 , 0.79473106, 0.83336148, 0.85898843, 0.83901883,\n",
       "        0.85628641, 0.87486279, 0.88782403, 0.90095415, 0.92793211,\n",
       "        0.948535  , 0.93333615, 0.91746179, 0.92544119, 0.91771511,\n",
       "        0.9483239 , 0.94064004, 0.96635143, 0.9563033 , 0.96491598]])"
      ]
     },
     "execution_count": 399,
     "metadata": {},
     "output_type": "execute_result"
    }
   ],
   "source": [
    "X_input = test_data[341:].reshape(1,-1)\n",
    "X_input"
   ]
  },
  {
   "cell_type": "code",
   "execution_count": 400,
   "metadata": {},
   "outputs": [],
   "source": [
    "temp_input = list(X_input)\n",
    "temp_input = temp_input[0].tolist()"
   ]
  },
  {
   "cell_type": "code",
   "execution_count": 401,
   "metadata": {},
   "outputs": [
    {
     "data": {
      "text/plain": [
       "[0.8583551465000423,\n",
       " 0.8866418981676942,\n",
       " 0.8743139407244789,\n",
       " 0.8843198513890065,\n",
       " 0.8783669678290975,\n",
       " 0.8986321033521913,\n",
       " 0.925821160179009,\n",
       " 0.9287764924427933,\n",
       " 0.9567677108840666,\n",
       " 0.9386979650426415,\n",
       " 0.933040614709111,\n",
       " 0.9495060373216249,\n",
       " 0.9642404796082076,\n",
       " 0.9551211686228154,\n",
       " 0.9598919192772104,\n",
       " 0.9663514312251966,\n",
       " 0.9624672802499368,\n",
       " 0.9229502659799038,\n",
       " 0.9598497002448705,\n",
       " 0.9879253567508233,\n",
       " 0.985941062230854,\n",
       " 0.9253145317909315,\n",
       " 0.9217259140420504,\n",
       " 0.964747107996285,\n",
       " 0.9757240564046274,\n",
       " 0.9915984125643842,\n",
       " 0.9697289538123788,\n",
       " 0.9761462467280253,\n",
       " 0.9679557544541082,\n",
       " 1.0000000000000002,\n",
       " 0.9901629654648318,\n",
       " 0.9905007177235499,\n",
       " 0.9653803934813816,\n",
       " 0.9848855864223593,\n",
       " 0.9708688676855528,\n",
       " 0.9402600692392133,\n",
       " 0.8774803681499621,\n",
       " 0.8348391454867856,\n",
       " 0.8541332432660644,\n",
       " 0.7733682344000676,\n",
       " 0.7726927298826314,\n",
       " 0.8801401671873683,\n",
       " 0.8400743054969182,\n",
       " 0.8967322468969012,\n",
       " 0.8552731571392387,\n",
       " 0.8388499535590646,\n",
       " 0.7423372456303303,\n",
       " 0.8232711306256861,\n",
       " 0.7814320695769654,\n",
       " 0.6665963016127672,\n",
       " 0.7921557037912694,\n",
       " 0.6411804441442204,\n",
       " 0.6861437135860848,\n",
       " 0.6600101325677616,\n",
       " 0.6520307354555435,\n",
       " 0.5864223591995272,\n",
       " 0.5658616904500551,\n",
       " 0.660896732246897,\n",
       " 0.6551549438486872,\n",
       " 0.7097019336316812,\n",
       " 0.664527569028118,\n",
       " 0.6943764248923416,\n",
       " 0.692181035210673,\n",
       " 0.6356919699400492,\n",
       " 0.6526640209406402,\n",
       " 0.637802921557038,\n",
       " 0.7267162036646122,\n",
       " 0.7138816178333194,\n",
       " 0.7419150553069325,\n",
       " 0.7500211095161702,\n",
       " 0.7722283205268936,\n",
       " 0.8304905851557884,\n",
       " 0.8194291986827664,\n",
       " 0.8289706999915563,\n",
       " 0.8125474964113824,\n",
       " 0.7877649244279323,\n",
       " 0.7516254327450818,\n",
       " 0.7842607447437306,\n",
       " 0.7797433082833742,\n",
       " 0.8132652199611587,\n",
       " 0.8141096006079542,\n",
       " 0.7947310647639958,\n",
       " 0.8333614793548934,\n",
       " 0.8589884319851391,\n",
       " 0.8390188296884238,\n",
       " 0.8562864139153934,\n",
       " 0.8748627881448958,\n",
       " 0.887824031073208,\n",
       " 0.9009541501308793,\n",
       " 0.9279321117959978,\n",
       " 0.9485349995778098,\n",
       " 0.9333361479354896,\n",
       " 0.9174617917757326,\n",
       " 0.925441188887951,\n",
       " 0.9177151059697712,\n",
       " 0.9483239044161109,\n",
       " 0.9406400405302711,\n",
       " 0.9663514312251966,\n",
       " 0.9563033015283293,\n",
       " 0.964915984125644]"
      ]
     },
     "execution_count": 401,
     "metadata": {},
     "output_type": "execute_result"
    }
   ],
   "source": [
    "temp_input"
   ]
  },
  {
   "cell_type": "code",
   "execution_count": 431,
   "metadata": {},
   "outputs": [
    {
     "name": "stdout",
     "output_type": "stream",
     "text": [
      "0 day input [0.99016297 0.99050072 0.96538039 0.98488559 0.97086887 0.94026007\n",
      " 0.87748037 0.83483915 0.85413324 0.77336823 0.77269273 0.88014017\n",
      " 0.84007431 0.89673225 0.85527316 0.83884995 0.74233725 0.82327113\n",
      " 0.78143207 0.6665963  0.7921557  0.64118044 0.68614371 0.66001013\n",
      " 0.65203074 0.58642236 0.56586169 0.66089673 0.65515494 0.70970193\n",
      " 0.66452757 0.69437642 0.69218104 0.63569197 0.65266402 0.63780292\n",
      " 0.7267162  0.71388162 0.74191506 0.75002111 0.77222832 0.83049059\n",
      " 0.8194292  0.8289707  0.8125475  0.78776492 0.75162543 0.78426074\n",
      " 0.77974331 0.81326522 0.8141096  0.79473106 0.83336148 0.85898843\n",
      " 0.83901883 0.85628641 0.87486279 0.88782403 0.90095415 0.92793211\n",
      " 0.948535   0.93333615 0.91746179 0.92544119 0.91771511 0.9483239\n",
      " 0.94064004 0.96635143 0.9563033  0.96491598 0.9429515  0.93651432\n",
      " 0.92660058 0.91707021 0.90950888 0.9042592  0.90101379 0.89917552\n",
      " 0.89809471 0.89721966 0.89617151 0.89476097 0.89296067 0.8908568\n",
      " 0.88859272 0.88632119 0.88416767 0.88221443 0.88049459 0.87900037\n",
      " 0.87769544 0.87652957 0.87545103 0.8744154  0.87339181 0.87236166\n",
      " 0.87131923 0.8702665  0.86921042 0.8681584 ]\n",
      "0 day output [[0.8671177]]\n",
      "1 day input [0.99050072 0.96538039 0.98488559 0.97086887 0.94026007 0.87748037\n",
      " 0.83483915 0.85413324 0.77336823 0.77269273 0.88014017 0.84007431\n",
      " 0.89673225 0.85527316 0.83884995 0.74233725 0.82327113 0.78143207\n",
      " 0.6665963  0.7921557  0.64118044 0.68614371 0.66001013 0.65203074\n",
      " 0.58642236 0.56586169 0.66089673 0.65515494 0.70970193 0.66452757\n",
      " 0.69437642 0.69218104 0.63569197 0.65266402 0.63780292 0.7267162\n",
      " 0.71388162 0.74191506 0.75002111 0.77222832 0.83049059 0.8194292\n",
      " 0.8289707  0.8125475  0.78776492 0.75162543 0.78426074 0.77974331\n",
      " 0.81326522 0.8141096  0.79473106 0.83336148 0.85898843 0.83901883\n",
      " 0.85628641 0.87486279 0.88782403 0.90095415 0.92793211 0.948535\n",
      " 0.93333615 0.91746179 0.92544119 0.91771511 0.9483239  0.94064004\n",
      " 0.96635143 0.9563033  0.96491598 0.9429515  0.93651432 0.92660058\n",
      " 0.91707021 0.90950888 0.9042592  0.90101379 0.89917552 0.89809471\n",
      " 0.89721966 0.89617151 0.89476097 0.89296067 0.8908568  0.88859272\n",
      " 0.88632119 0.88416767 0.88221443 0.88049459 0.87900037 0.87769544\n",
      " 0.87652957 0.87545103 0.8744154  0.87339181 0.87236166 0.87131923\n",
      " 0.8702665  0.86921042 0.8681584  0.8671177 ]\n",
      "1 day output [[0.866092]]\n",
      "2 day input [0.96538039 0.98488559 0.97086887 0.94026007 0.87748037 0.83483915\n",
      " 0.85413324 0.77336823 0.77269273 0.88014017 0.84007431 0.89673225\n",
      " 0.85527316 0.83884995 0.74233725 0.82327113 0.78143207 0.6665963\n",
      " 0.7921557  0.64118044 0.68614371 0.66001013 0.65203074 0.58642236\n",
      " 0.56586169 0.66089673 0.65515494 0.70970193 0.66452757 0.69437642\n",
      " 0.69218104 0.63569197 0.65266402 0.63780292 0.7267162  0.71388162\n",
      " 0.74191506 0.75002111 0.77222832 0.83049059 0.8194292  0.8289707\n",
      " 0.8125475  0.78776492 0.75162543 0.78426074 0.77974331 0.81326522\n",
      " 0.8141096  0.79473106 0.83336148 0.85898843 0.83901883 0.85628641\n",
      " 0.87486279 0.88782403 0.90095415 0.92793211 0.948535   0.93333615\n",
      " 0.91746179 0.92544119 0.91771511 0.9483239  0.94064004 0.96635143\n",
      " 0.9563033  0.96491598 0.9429515  0.93651432 0.92660058 0.91707021\n",
      " 0.90950888 0.9042592  0.90101379 0.89917552 0.89809471 0.89721966\n",
      " 0.89617151 0.89476097 0.89296067 0.8908568  0.88859272 0.88632119\n",
      " 0.88416767 0.88221443 0.88049459 0.87900037 0.87769544 0.87652957\n",
      " 0.87545103 0.8744154  0.87339181 0.87236166 0.87131923 0.8702665\n",
      " 0.86921042 0.8681584  0.8671177  0.86609203]\n",
      "2 day output [[0.8650828]]\n",
      "3 day input [0.98488559 0.97086887 0.94026007 0.87748037 0.83483915 0.85413324\n",
      " 0.77336823 0.77269273 0.88014017 0.84007431 0.89673225 0.85527316\n",
      " 0.83884995 0.74233725 0.82327113 0.78143207 0.6665963  0.7921557\n",
      " 0.64118044 0.68614371 0.66001013 0.65203074 0.58642236 0.56586169\n",
      " 0.66089673 0.65515494 0.70970193 0.66452757 0.69437642 0.69218104\n",
      " 0.63569197 0.65266402 0.63780292 0.7267162  0.71388162 0.74191506\n",
      " 0.75002111 0.77222832 0.83049059 0.8194292  0.8289707  0.8125475\n",
      " 0.78776492 0.75162543 0.78426074 0.77974331 0.81326522 0.8141096\n",
      " 0.79473106 0.83336148 0.85898843 0.83901883 0.85628641 0.87486279\n",
      " 0.88782403 0.90095415 0.92793211 0.948535   0.93333615 0.91746179\n",
      " 0.92544119 0.91771511 0.9483239  0.94064004 0.96635143 0.9563033\n",
      " 0.96491598 0.9429515  0.93651432 0.92660058 0.91707021 0.90950888\n",
      " 0.9042592  0.90101379 0.89917552 0.89809471 0.89721966 0.89617151\n",
      " 0.89476097 0.89296067 0.8908568  0.88859272 0.88632119 0.88416767\n",
      " 0.88221443 0.88049459 0.87900037 0.87769544 0.87652957 0.87545103\n",
      " 0.8744154  0.87339181 0.87236166 0.87131923 0.8702665  0.86921042\n",
      " 0.8681584  0.8671177  0.86609203 0.8650828 ]\n",
      "3 day output [[0.8640879]]\n",
      "4 day input [0.97086887 0.94026007 0.87748037 0.83483915 0.85413324 0.77336823\n",
      " 0.77269273 0.88014017 0.84007431 0.89673225 0.85527316 0.83884995\n",
      " 0.74233725 0.82327113 0.78143207 0.6665963  0.7921557  0.64118044\n",
      " 0.68614371 0.66001013 0.65203074 0.58642236 0.56586169 0.66089673\n",
      " 0.65515494 0.70970193 0.66452757 0.69437642 0.69218104 0.63569197\n",
      " 0.65266402 0.63780292 0.7267162  0.71388162 0.74191506 0.75002111\n",
      " 0.77222832 0.83049059 0.8194292  0.8289707  0.8125475  0.78776492\n",
      " 0.75162543 0.78426074 0.77974331 0.81326522 0.8141096  0.79473106\n",
      " 0.83336148 0.85898843 0.83901883 0.85628641 0.87486279 0.88782403\n",
      " 0.90095415 0.92793211 0.948535   0.93333615 0.91746179 0.92544119\n",
      " 0.91771511 0.9483239  0.94064004 0.96635143 0.9563033  0.96491598\n",
      " 0.9429515  0.93651432 0.92660058 0.91707021 0.90950888 0.9042592\n",
      " 0.90101379 0.89917552 0.89809471 0.89721966 0.89617151 0.89476097\n",
      " 0.89296067 0.8908568  0.88859272 0.88632119 0.88416767 0.88221443\n",
      " 0.88049459 0.87900037 0.87769544 0.87652957 0.87545103 0.8744154\n",
      " 0.87339181 0.87236166 0.87131923 0.8702665  0.86921042 0.8681584\n",
      " 0.8671177  0.86609203 0.8650828  0.86408788]\n",
      "4 day output [[0.86310416]]\n",
      "5 day input [0.94026007 0.87748037 0.83483915 0.85413324 0.77336823 0.77269273\n",
      " 0.88014017 0.84007431 0.89673225 0.85527316 0.83884995 0.74233725\n",
      " 0.82327113 0.78143207 0.6665963  0.7921557  0.64118044 0.68614371\n",
      " 0.66001013 0.65203074 0.58642236 0.56586169 0.66089673 0.65515494\n",
      " 0.70970193 0.66452757 0.69437642 0.69218104 0.63569197 0.65266402\n",
      " 0.63780292 0.7267162  0.71388162 0.74191506 0.75002111 0.77222832\n",
      " 0.83049059 0.8194292  0.8289707  0.8125475  0.78776492 0.75162543\n",
      " 0.78426074 0.77974331 0.81326522 0.8141096  0.79473106 0.83336148\n",
      " 0.85898843 0.83901883 0.85628641 0.87486279 0.88782403 0.90095415\n",
      " 0.92793211 0.948535   0.93333615 0.91746179 0.92544119 0.91771511\n",
      " 0.9483239  0.94064004 0.96635143 0.9563033  0.96491598 0.9429515\n",
      " 0.93651432 0.92660058 0.91707021 0.90950888 0.9042592  0.90101379\n",
      " 0.89917552 0.89809471 0.89721966 0.89617151 0.89476097 0.89296067\n",
      " 0.8908568  0.88859272 0.88632119 0.88416767 0.88221443 0.88049459\n",
      " 0.87900037 0.87769544 0.87652957 0.87545103 0.8744154  0.87339181\n",
      " 0.87236166 0.87131923 0.8702665  0.86921042 0.8681584  0.8671177\n",
      " 0.86609203 0.8650828  0.86408788 0.86310416]\n",
      "5 day output [[0.86212826]]\n",
      "6 day input [0.87748037 0.83483915 0.85413324 0.77336823 0.77269273 0.88014017\n",
      " 0.84007431 0.89673225 0.85527316 0.83884995 0.74233725 0.82327113\n",
      " 0.78143207 0.6665963  0.7921557  0.64118044 0.68614371 0.66001013\n",
      " 0.65203074 0.58642236 0.56586169 0.66089673 0.65515494 0.70970193\n",
      " 0.66452757 0.69437642 0.69218104 0.63569197 0.65266402 0.63780292\n",
      " 0.7267162  0.71388162 0.74191506 0.75002111 0.77222832 0.83049059\n",
      " 0.8194292  0.8289707  0.8125475  0.78776492 0.75162543 0.78426074\n",
      " 0.77974331 0.81326522 0.8141096  0.79473106 0.83336148 0.85898843\n",
      " 0.83901883 0.85628641 0.87486279 0.88782403 0.90095415 0.92793211\n",
      " 0.948535   0.93333615 0.91746179 0.92544119 0.91771511 0.9483239\n",
      " 0.94064004 0.96635143 0.9563033  0.96491598 0.9429515  0.93651432\n",
      " 0.92660058 0.91707021 0.90950888 0.9042592  0.90101379 0.89917552\n",
      " 0.89809471 0.89721966 0.89617151 0.89476097 0.89296067 0.8908568\n",
      " 0.88859272 0.88632119 0.88416767 0.88221443 0.88049459 0.87900037\n",
      " 0.87769544 0.87652957 0.87545103 0.8744154  0.87339181 0.87236166\n",
      " 0.87131923 0.8702665  0.86921042 0.8681584  0.8671177  0.86609203\n",
      " 0.8650828  0.86408788 0.86310416 0.86212826]\n",
      "6 day output [[0.86115515]]\n",
      "7 day input [0.83483915 0.85413324 0.77336823 0.77269273 0.88014017 0.84007431\n",
      " 0.89673225 0.85527316 0.83884995 0.74233725 0.82327113 0.78143207\n",
      " 0.6665963  0.7921557  0.64118044 0.68614371 0.66001013 0.65203074\n",
      " 0.58642236 0.56586169 0.66089673 0.65515494 0.70970193 0.66452757\n",
      " 0.69437642 0.69218104 0.63569197 0.65266402 0.63780292 0.7267162\n",
      " 0.71388162 0.74191506 0.75002111 0.77222832 0.83049059 0.8194292\n",
      " 0.8289707  0.8125475  0.78776492 0.75162543 0.78426074 0.77974331\n",
      " 0.81326522 0.8141096  0.79473106 0.83336148 0.85898843 0.83901883\n",
      " 0.85628641 0.87486279 0.88782403 0.90095415 0.92793211 0.948535\n",
      " 0.93333615 0.91746179 0.92544119 0.91771511 0.9483239  0.94064004\n",
      " 0.96635143 0.9563033  0.96491598 0.9429515  0.93651432 0.92660058\n",
      " 0.91707021 0.90950888 0.9042592  0.90101379 0.89917552 0.89809471\n",
      " 0.89721966 0.89617151 0.89476097 0.89296067 0.8908568  0.88859272\n",
      " 0.88632119 0.88416767 0.88221443 0.88049459 0.87900037 0.87769544\n",
      " 0.87652957 0.87545103 0.8744154  0.87339181 0.87236166 0.87131923\n",
      " 0.8702665  0.86921042 0.8681584  0.8671177  0.86609203 0.8650828\n",
      " 0.86408788 0.86310416 0.86212826 0.86115515]\n"
     ]
    },
    {
     "name": "stdout",
     "output_type": "stream",
     "text": [
      "7 day output [[0.86018234]]\n",
      "8 day input [0.85413324 0.77336823 0.77269273 0.88014017 0.84007431 0.89673225\n",
      " 0.85527316 0.83884995 0.74233725 0.82327113 0.78143207 0.6665963\n",
      " 0.7921557  0.64118044 0.68614371 0.66001013 0.65203074 0.58642236\n",
      " 0.56586169 0.66089673 0.65515494 0.70970193 0.66452757 0.69437642\n",
      " 0.69218104 0.63569197 0.65266402 0.63780292 0.7267162  0.71388162\n",
      " 0.74191506 0.75002111 0.77222832 0.83049059 0.8194292  0.8289707\n",
      " 0.8125475  0.78776492 0.75162543 0.78426074 0.77974331 0.81326522\n",
      " 0.8141096  0.79473106 0.83336148 0.85898843 0.83901883 0.85628641\n",
      " 0.87486279 0.88782403 0.90095415 0.92793211 0.948535   0.93333615\n",
      " 0.91746179 0.92544119 0.91771511 0.9483239  0.94064004 0.96635143\n",
      " 0.9563033  0.96491598 0.9429515  0.93651432 0.92660058 0.91707021\n",
      " 0.90950888 0.9042592  0.90101379 0.89917552 0.89809471 0.89721966\n",
      " 0.89617151 0.89476097 0.89296067 0.8908568  0.88859272 0.88632119\n",
      " 0.88416767 0.88221443 0.88049459 0.87900037 0.87769544 0.87652957\n",
      " 0.87545103 0.8744154  0.87339181 0.87236166 0.87131923 0.8702665\n",
      " 0.86921042 0.8681584  0.8671177  0.86609203 0.8650828  0.86408788\n",
      " 0.86310416 0.86212826 0.86115515 0.86018234]\n",
      "8 day output [[0.8592078]]\n",
      "9 day input [0.77336823 0.77269273 0.88014017 0.84007431 0.89673225 0.85527316\n",
      " 0.83884995 0.74233725 0.82327113 0.78143207 0.6665963  0.7921557\n",
      " 0.64118044 0.68614371 0.66001013 0.65203074 0.58642236 0.56586169\n",
      " 0.66089673 0.65515494 0.70970193 0.66452757 0.69437642 0.69218104\n",
      " 0.63569197 0.65266402 0.63780292 0.7267162  0.71388162 0.74191506\n",
      " 0.75002111 0.77222832 0.83049059 0.8194292  0.8289707  0.8125475\n",
      " 0.78776492 0.75162543 0.78426074 0.77974331 0.81326522 0.8141096\n",
      " 0.79473106 0.83336148 0.85898843 0.83901883 0.85628641 0.87486279\n",
      " 0.88782403 0.90095415 0.92793211 0.948535   0.93333615 0.91746179\n",
      " 0.92544119 0.91771511 0.9483239  0.94064004 0.96635143 0.9563033\n",
      " 0.96491598 0.9429515  0.93651432 0.92660058 0.91707021 0.90950888\n",
      " 0.9042592  0.90101379 0.89917552 0.89809471 0.89721966 0.89617151\n",
      " 0.89476097 0.89296067 0.8908568  0.88859272 0.88632119 0.88416767\n",
      " 0.88221443 0.88049459 0.87900037 0.87769544 0.87652957 0.87545103\n",
      " 0.8744154  0.87339181 0.87236166 0.87131923 0.8702665  0.86921042\n",
      " 0.8681584  0.8671177  0.86609203 0.8650828  0.86408788 0.86310416\n",
      " 0.86212826 0.86115515 0.86018234 0.85920781]\n",
      "9 day output [[0.8582304]]\n",
      "10 day input [0.77269273 0.88014017 0.84007431 0.89673225 0.85527316 0.83884995\n",
      " 0.74233725 0.82327113 0.78143207 0.6665963  0.7921557  0.64118044\n",
      " 0.68614371 0.66001013 0.65203074 0.58642236 0.56586169 0.66089673\n",
      " 0.65515494 0.70970193 0.66452757 0.69437642 0.69218104 0.63569197\n",
      " 0.65266402 0.63780292 0.7267162  0.71388162 0.74191506 0.75002111\n",
      " 0.77222832 0.83049059 0.8194292  0.8289707  0.8125475  0.78776492\n",
      " 0.75162543 0.78426074 0.77974331 0.81326522 0.8141096  0.79473106\n",
      " 0.83336148 0.85898843 0.83901883 0.85628641 0.87486279 0.88782403\n",
      " 0.90095415 0.92793211 0.948535   0.93333615 0.91746179 0.92544119\n",
      " 0.91771511 0.9483239  0.94064004 0.96635143 0.9563033  0.96491598\n",
      " 0.9429515  0.93651432 0.92660058 0.91707021 0.90950888 0.9042592\n",
      " 0.90101379 0.89917552 0.89809471 0.89721966 0.89617151 0.89476097\n",
      " 0.89296067 0.8908568  0.88859272 0.88632119 0.88416767 0.88221443\n",
      " 0.88049459 0.87900037 0.87769544 0.87652957 0.87545103 0.8744154\n",
      " 0.87339181 0.87236166 0.87131923 0.8702665  0.86921042 0.8681584\n",
      " 0.8671177  0.86609203 0.8650828  0.86408788 0.86310416 0.86212826\n",
      " 0.86115515 0.86018234 0.85920781 0.85823041]\n",
      "10 day output [[0.8572497]]\n",
      "11 day input [0.88014017 0.84007431 0.89673225 0.85527316 0.83884995 0.74233725\n",
      " 0.82327113 0.78143207 0.6665963  0.7921557  0.64118044 0.68614371\n",
      " 0.66001013 0.65203074 0.58642236 0.56586169 0.66089673 0.65515494\n",
      " 0.70970193 0.66452757 0.69437642 0.69218104 0.63569197 0.65266402\n",
      " 0.63780292 0.7267162  0.71388162 0.74191506 0.75002111 0.77222832\n",
      " 0.83049059 0.8194292  0.8289707  0.8125475  0.78776492 0.75162543\n",
      " 0.78426074 0.77974331 0.81326522 0.8141096  0.79473106 0.83336148\n",
      " 0.85898843 0.83901883 0.85628641 0.87486279 0.88782403 0.90095415\n",
      " 0.92793211 0.948535   0.93333615 0.91746179 0.92544119 0.91771511\n",
      " 0.9483239  0.94064004 0.96635143 0.9563033  0.96491598 0.9429515\n",
      " 0.93651432 0.92660058 0.91707021 0.90950888 0.9042592  0.90101379\n",
      " 0.89917552 0.89809471 0.89721966 0.89617151 0.89476097 0.89296067\n",
      " 0.8908568  0.88859272 0.88632119 0.88416767 0.88221443 0.88049459\n",
      " 0.87900037 0.87769544 0.87652957 0.87545103 0.8744154  0.87339181\n",
      " 0.87236166 0.87131923 0.8702665  0.86921042 0.8681584  0.8671177\n",
      " 0.86609203 0.8650828  0.86408788 0.86310416 0.86212826 0.86115515\n",
      " 0.86018234 0.85920781 0.85823041 0.85724968]\n",
      "11 day output [[0.8562666]]\n",
      "12 day input [0.84007431 0.89673225 0.85527316 0.83884995 0.74233725 0.82327113\n",
      " 0.78143207 0.6665963  0.7921557  0.64118044 0.68614371 0.66001013\n",
      " 0.65203074 0.58642236 0.56586169 0.66089673 0.65515494 0.70970193\n",
      " 0.66452757 0.69437642 0.69218104 0.63569197 0.65266402 0.63780292\n",
      " 0.7267162  0.71388162 0.74191506 0.75002111 0.77222832 0.83049059\n",
      " 0.8194292  0.8289707  0.8125475  0.78776492 0.75162543 0.78426074\n",
      " 0.77974331 0.81326522 0.8141096  0.79473106 0.83336148 0.85898843\n",
      " 0.83901883 0.85628641 0.87486279 0.88782403 0.90095415 0.92793211\n",
      " 0.948535   0.93333615 0.91746179 0.92544119 0.91771511 0.9483239\n",
      " 0.94064004 0.96635143 0.9563033  0.96491598 0.9429515  0.93651432\n",
      " 0.92660058 0.91707021 0.90950888 0.9042592  0.90101379 0.89917552\n",
      " 0.89809471 0.89721966 0.89617151 0.89476097 0.89296067 0.8908568\n",
      " 0.88859272 0.88632119 0.88416767 0.88221443 0.88049459 0.87900037\n",
      " 0.87769544 0.87652957 0.87545103 0.8744154  0.87339181 0.87236166\n",
      " 0.87131923 0.8702665  0.86921042 0.8681584  0.8671177  0.86609203\n",
      " 0.8650828  0.86408788 0.86310416 0.86212826 0.86115515 0.86018234\n",
      " 0.85920781 0.85823041 0.85724968 0.85626662]\n",
      "12 day output [[0.85528207]]\n",
      "13 day input [0.89673225 0.85527316 0.83884995 0.74233725 0.82327113 0.78143207\n",
      " 0.6665963  0.7921557  0.64118044 0.68614371 0.66001013 0.65203074\n",
      " 0.58642236 0.56586169 0.66089673 0.65515494 0.70970193 0.66452757\n",
      " 0.69437642 0.69218104 0.63569197 0.65266402 0.63780292 0.7267162\n",
      " 0.71388162 0.74191506 0.75002111 0.77222832 0.83049059 0.8194292\n",
      " 0.8289707  0.8125475  0.78776492 0.75162543 0.78426074 0.77974331\n",
      " 0.81326522 0.8141096  0.79473106 0.83336148 0.85898843 0.83901883\n",
      " 0.85628641 0.87486279 0.88782403 0.90095415 0.92793211 0.948535\n",
      " 0.93333615 0.91746179 0.92544119 0.91771511 0.9483239  0.94064004\n",
      " 0.96635143 0.9563033  0.96491598 0.9429515  0.93651432 0.92660058\n",
      " 0.91707021 0.90950888 0.9042592  0.90101379 0.89917552 0.89809471\n",
      " 0.89721966 0.89617151 0.89476097 0.89296067 0.8908568  0.88859272\n",
      " 0.88632119 0.88416767 0.88221443 0.88049459 0.87900037 0.87769544\n",
      " 0.87652957 0.87545103 0.8744154  0.87339181 0.87236166 0.87131923\n",
      " 0.8702665  0.86921042 0.8681584  0.8671177  0.86609203 0.8650828\n",
      " 0.86408788 0.86310416 0.86212826 0.86115515 0.86018234 0.85920781\n",
      " 0.85823041 0.85724968 0.85626662 0.85528207]\n",
      "13 day output [[0.8542972]]\n",
      "14 day input [0.85527316 0.83884995 0.74233725 0.82327113 0.78143207 0.6665963\n",
      " 0.7921557  0.64118044 0.68614371 0.66001013 0.65203074 0.58642236\n",
      " 0.56586169 0.66089673 0.65515494 0.70970193 0.66452757 0.69437642\n",
      " 0.69218104 0.63569197 0.65266402 0.63780292 0.7267162  0.71388162\n",
      " 0.74191506 0.75002111 0.77222832 0.83049059 0.8194292  0.8289707\n",
      " 0.8125475  0.78776492 0.75162543 0.78426074 0.77974331 0.81326522\n",
      " 0.8141096  0.79473106 0.83336148 0.85898843 0.83901883 0.85628641\n",
      " 0.87486279 0.88782403 0.90095415 0.92793211 0.948535   0.93333615\n",
      " 0.91746179 0.92544119 0.91771511 0.9483239  0.94064004 0.96635143\n",
      " 0.9563033  0.96491598 0.9429515  0.93651432 0.92660058 0.91707021\n",
      " 0.90950888 0.9042592  0.90101379 0.89917552 0.89809471 0.89721966\n",
      " 0.89617151 0.89476097 0.89296067 0.8908568  0.88859272 0.88632119\n",
      " 0.88416767 0.88221443 0.88049459 0.87900037 0.87769544 0.87652957\n",
      " 0.87545103 0.8744154  0.87339181 0.87236166 0.87131923 0.8702665\n",
      " 0.86921042 0.8681584  0.8671177  0.86609203 0.8650828  0.86408788\n",
      " 0.86310416 0.86212826 0.86115515 0.86018234 0.85920781 0.85823041\n",
      " 0.85724968 0.85626662 0.85528207 0.85429722]\n",
      "14 day output [[0.8533128]]\n",
      "15 day input [0.83884995 0.74233725 0.82327113 0.78143207 0.6665963  0.7921557\n",
      " 0.64118044 0.68614371 0.66001013 0.65203074 0.58642236 0.56586169\n",
      " 0.66089673 0.65515494 0.70970193 0.66452757 0.69437642 0.69218104\n",
      " 0.63569197 0.65266402 0.63780292 0.7267162  0.71388162 0.74191506\n",
      " 0.75002111 0.77222832 0.83049059 0.8194292  0.8289707  0.8125475\n",
      " 0.78776492 0.75162543 0.78426074 0.77974331 0.81326522 0.8141096\n",
      " 0.79473106 0.83336148 0.85898843 0.83901883 0.85628641 0.87486279\n",
      " 0.88782403 0.90095415 0.92793211 0.948535   0.93333615 0.91746179\n",
      " 0.92544119 0.91771511 0.9483239  0.94064004 0.96635143 0.9563033\n",
      " 0.96491598 0.9429515  0.93651432 0.92660058 0.91707021 0.90950888\n",
      " 0.9042592  0.90101379 0.89917552 0.89809471 0.89721966 0.89617151\n",
      " 0.89476097 0.89296067 0.8908568  0.88859272 0.88632119 0.88416767\n",
      " 0.88221443 0.88049459 0.87900037 0.87769544 0.87652957 0.87545103\n",
      " 0.8744154  0.87339181 0.87236166 0.87131923 0.8702665  0.86921042\n",
      " 0.8681584  0.8671177  0.86609203 0.8650828  0.86408788 0.86310416\n",
      " 0.86212826 0.86115515 0.86018234 0.85920781 0.85823041 0.85724968\n",
      " 0.85626662 0.85528207 0.85429722 0.85331279]\n"
     ]
    },
    {
     "name": "stdout",
     "output_type": "stream",
     "text": [
      "15 day output [[0.8523301]]\n",
      "16 day input [0.74233725 0.82327113 0.78143207 0.6665963  0.7921557  0.64118044\n",
      " 0.68614371 0.66001013 0.65203074 0.58642236 0.56586169 0.66089673\n",
      " 0.65515494 0.70970193 0.66452757 0.69437642 0.69218104 0.63569197\n",
      " 0.65266402 0.63780292 0.7267162  0.71388162 0.74191506 0.75002111\n",
      " 0.77222832 0.83049059 0.8194292  0.8289707  0.8125475  0.78776492\n",
      " 0.75162543 0.78426074 0.77974331 0.81326522 0.8141096  0.79473106\n",
      " 0.83336148 0.85898843 0.83901883 0.85628641 0.87486279 0.88782403\n",
      " 0.90095415 0.92793211 0.948535   0.93333615 0.91746179 0.92544119\n",
      " 0.91771511 0.9483239  0.94064004 0.96635143 0.9563033  0.96491598\n",
      " 0.9429515  0.93651432 0.92660058 0.91707021 0.90950888 0.9042592\n",
      " 0.90101379 0.89917552 0.89809471 0.89721966 0.89617151 0.89476097\n",
      " 0.89296067 0.8908568  0.88859272 0.88632119 0.88416767 0.88221443\n",
      " 0.88049459 0.87900037 0.87769544 0.87652957 0.87545103 0.8744154\n",
      " 0.87339181 0.87236166 0.87131923 0.8702665  0.86921042 0.8681584\n",
      " 0.8671177  0.86609203 0.8650828  0.86408788 0.86310416 0.86212826\n",
      " 0.86115515 0.86018234 0.85920781 0.85823041 0.85724968 0.85626662\n",
      " 0.85528207 0.85429722 0.85331279 0.85233009]\n",
      "16 day output [[0.8513491]]\n",
      "17 day input [0.82327113 0.78143207 0.6665963  0.7921557  0.64118044 0.68614371\n",
      " 0.66001013 0.65203074 0.58642236 0.56586169 0.66089673 0.65515494\n",
      " 0.70970193 0.66452757 0.69437642 0.69218104 0.63569197 0.65266402\n",
      " 0.63780292 0.7267162  0.71388162 0.74191506 0.75002111 0.77222832\n",
      " 0.83049059 0.8194292  0.8289707  0.8125475  0.78776492 0.75162543\n",
      " 0.78426074 0.77974331 0.81326522 0.8141096  0.79473106 0.83336148\n",
      " 0.85898843 0.83901883 0.85628641 0.87486279 0.88782403 0.90095415\n",
      " 0.92793211 0.948535   0.93333615 0.91746179 0.92544119 0.91771511\n",
      " 0.9483239  0.94064004 0.96635143 0.9563033  0.96491598 0.9429515\n",
      " 0.93651432 0.92660058 0.91707021 0.90950888 0.9042592  0.90101379\n",
      " 0.89917552 0.89809471 0.89721966 0.89617151 0.89476097 0.89296067\n",
      " 0.8908568  0.88859272 0.88632119 0.88416767 0.88221443 0.88049459\n",
      " 0.87900037 0.87769544 0.87652957 0.87545103 0.8744154  0.87339181\n",
      " 0.87236166 0.87131923 0.8702665  0.86921042 0.8681584  0.8671177\n",
      " 0.86609203 0.8650828  0.86408788 0.86310416 0.86212826 0.86115515\n",
      " 0.86018234 0.85920781 0.85823041 0.85724968 0.85626662 0.85528207\n",
      " 0.85429722 0.85331279 0.85233009 0.85134912]\n",
      "17 day output [[0.8503703]]\n",
      "18 day input [0.78143207 0.6665963  0.7921557  0.64118044 0.68614371 0.66001013\n",
      " 0.65203074 0.58642236 0.56586169 0.66089673 0.65515494 0.70970193\n",
      " 0.66452757 0.69437642 0.69218104 0.63569197 0.65266402 0.63780292\n",
      " 0.7267162  0.71388162 0.74191506 0.75002111 0.77222832 0.83049059\n",
      " 0.8194292  0.8289707  0.8125475  0.78776492 0.75162543 0.78426074\n",
      " 0.77974331 0.81326522 0.8141096  0.79473106 0.83336148 0.85898843\n",
      " 0.83901883 0.85628641 0.87486279 0.88782403 0.90095415 0.92793211\n",
      " 0.948535   0.93333615 0.91746179 0.92544119 0.91771511 0.9483239\n",
      " 0.94064004 0.96635143 0.9563033  0.96491598 0.9429515  0.93651432\n",
      " 0.92660058 0.91707021 0.90950888 0.9042592  0.90101379 0.89917552\n",
      " 0.89809471 0.89721966 0.89617151 0.89476097 0.89296067 0.8908568\n",
      " 0.88859272 0.88632119 0.88416767 0.88221443 0.88049459 0.87900037\n",
      " 0.87769544 0.87652957 0.87545103 0.8744154  0.87339181 0.87236166\n",
      " 0.87131923 0.8702665  0.86921042 0.8681584  0.8671177  0.86609203\n",
      " 0.8650828  0.86408788 0.86310416 0.86212826 0.86115515 0.86018234\n",
      " 0.85920781 0.85823041 0.85724968 0.85626662 0.85528207 0.85429722\n",
      " 0.85331279 0.85233009 0.85134912 0.85037029]\n",
      "18 day output [[0.849394]]\n",
      "19 day input [0.6665963  0.7921557  0.64118044 0.68614371 0.66001013 0.65203074\n",
      " 0.58642236 0.56586169 0.66089673 0.65515494 0.70970193 0.66452757\n",
      " 0.69437642 0.69218104 0.63569197 0.65266402 0.63780292 0.7267162\n",
      " 0.71388162 0.74191506 0.75002111 0.77222832 0.83049059 0.8194292\n",
      " 0.8289707  0.8125475  0.78776492 0.75162543 0.78426074 0.77974331\n",
      " 0.81326522 0.8141096  0.79473106 0.83336148 0.85898843 0.83901883\n",
      " 0.85628641 0.87486279 0.88782403 0.90095415 0.92793211 0.948535\n",
      " 0.93333615 0.91746179 0.92544119 0.91771511 0.9483239  0.94064004\n",
      " 0.96635143 0.9563033  0.96491598 0.9429515  0.93651432 0.92660058\n",
      " 0.91707021 0.90950888 0.9042592  0.90101379 0.89917552 0.89809471\n",
      " 0.89721966 0.89617151 0.89476097 0.89296067 0.8908568  0.88859272\n",
      " 0.88632119 0.88416767 0.88221443 0.88049459 0.87900037 0.87769544\n",
      " 0.87652957 0.87545103 0.8744154  0.87339181 0.87236166 0.87131923\n",
      " 0.8702665  0.86921042 0.8681584  0.8671177  0.86609203 0.8650828\n",
      " 0.86408788 0.86310416 0.86212826 0.86115515 0.86018234 0.85920781\n",
      " 0.85823041 0.85724968 0.85626662 0.85528207 0.85429722 0.85331279\n",
      " 0.85233009 0.85134912 0.85037029 0.84939402]\n",
      "19 day output [[0.84842026]]\n",
      "20 day input [0.7921557  0.64118044 0.68614371 0.66001013 0.65203074 0.58642236\n",
      " 0.56586169 0.66089673 0.65515494 0.70970193 0.66452757 0.69437642\n",
      " 0.69218104 0.63569197 0.65266402 0.63780292 0.7267162  0.71388162\n",
      " 0.74191506 0.75002111 0.77222832 0.83049059 0.8194292  0.8289707\n",
      " 0.8125475  0.78776492 0.75162543 0.78426074 0.77974331 0.81326522\n",
      " 0.8141096  0.79473106 0.83336148 0.85898843 0.83901883 0.85628641\n",
      " 0.87486279 0.88782403 0.90095415 0.92793211 0.948535   0.93333615\n",
      " 0.91746179 0.92544119 0.91771511 0.9483239  0.94064004 0.96635143\n",
      " 0.9563033  0.96491598 0.9429515  0.93651432 0.92660058 0.91707021\n",
      " 0.90950888 0.9042592  0.90101379 0.89917552 0.89809471 0.89721966\n",
      " 0.89617151 0.89476097 0.89296067 0.8908568  0.88859272 0.88632119\n",
      " 0.88416767 0.88221443 0.88049459 0.87900037 0.87769544 0.87652957\n",
      " 0.87545103 0.8744154  0.87339181 0.87236166 0.87131923 0.8702665\n",
      " 0.86921042 0.8681584  0.8671177  0.86609203 0.8650828  0.86408788\n",
      " 0.86310416 0.86212826 0.86115515 0.86018234 0.85920781 0.85823041\n",
      " 0.85724968 0.85626662 0.85528207 0.85429722 0.85331279 0.85233009\n",
      " 0.85134912 0.85037029 0.84939402 0.84842026]\n",
      "20 day output [[0.84744924]]\n",
      "21 day input [0.64118044 0.68614371 0.66001013 0.65203074 0.58642236 0.56586169\n",
      " 0.66089673 0.65515494 0.70970193 0.66452757 0.69437642 0.69218104\n",
      " 0.63569197 0.65266402 0.63780292 0.7267162  0.71388162 0.74191506\n",
      " 0.75002111 0.77222832 0.83049059 0.8194292  0.8289707  0.8125475\n",
      " 0.78776492 0.75162543 0.78426074 0.77974331 0.81326522 0.8141096\n",
      " 0.79473106 0.83336148 0.85898843 0.83901883 0.85628641 0.87486279\n",
      " 0.88782403 0.90095415 0.92793211 0.948535   0.93333615 0.91746179\n",
      " 0.92544119 0.91771511 0.9483239  0.94064004 0.96635143 0.9563033\n",
      " 0.96491598 0.9429515  0.93651432 0.92660058 0.91707021 0.90950888\n",
      " 0.9042592  0.90101379 0.89917552 0.89809471 0.89721966 0.89617151\n",
      " 0.89476097 0.89296067 0.8908568  0.88859272 0.88632119 0.88416767\n",
      " 0.88221443 0.88049459 0.87900037 0.87769544 0.87652957 0.87545103\n",
      " 0.8744154  0.87339181 0.87236166 0.87131923 0.8702665  0.86921042\n",
      " 0.8681584  0.8671177  0.86609203 0.8650828  0.86408788 0.86310416\n",
      " 0.86212826 0.86115515 0.86018234 0.85920781 0.85823041 0.85724968\n",
      " 0.85626662 0.85528207 0.85429722 0.85331279 0.85233009 0.85134912\n",
      " 0.85037029 0.84939402 0.84842026 0.84744924]\n",
      "21 day output [[0.8464806]]\n",
      "22 day input [0.68614371 0.66001013 0.65203074 0.58642236 0.56586169 0.66089673\n",
      " 0.65515494 0.70970193 0.66452757 0.69437642 0.69218104 0.63569197\n",
      " 0.65266402 0.63780292 0.7267162  0.71388162 0.74191506 0.75002111\n",
      " 0.77222832 0.83049059 0.8194292  0.8289707  0.8125475  0.78776492\n",
      " 0.75162543 0.78426074 0.77974331 0.81326522 0.8141096  0.79473106\n",
      " 0.83336148 0.85898843 0.83901883 0.85628641 0.87486279 0.88782403\n",
      " 0.90095415 0.92793211 0.948535   0.93333615 0.91746179 0.92544119\n",
      " 0.91771511 0.9483239  0.94064004 0.96635143 0.9563033  0.96491598\n",
      " 0.9429515  0.93651432 0.92660058 0.91707021 0.90950888 0.9042592\n",
      " 0.90101379 0.89917552 0.89809471 0.89721966 0.89617151 0.89476097\n",
      " 0.89296067 0.8908568  0.88859272 0.88632119 0.88416767 0.88221443\n",
      " 0.88049459 0.87900037 0.87769544 0.87652957 0.87545103 0.8744154\n",
      " 0.87339181 0.87236166 0.87131923 0.8702665  0.86921042 0.8681584\n",
      " 0.8671177  0.86609203 0.8650828  0.86408788 0.86310416 0.86212826\n",
      " 0.86115515 0.86018234 0.85920781 0.85823041 0.85724968 0.85626662\n",
      " 0.85528207 0.85429722 0.85331279 0.85233009 0.85134912 0.85037029\n",
      " 0.84939402 0.84842026 0.84744924 0.84648061]\n",
      "22 day output [[0.84551495]]\n",
      "23 day input [0.66001013 0.65203074 0.58642236 0.56586169 0.66089673 0.65515494\n",
      " 0.70970193 0.66452757 0.69437642 0.69218104 0.63569197 0.65266402\n",
      " 0.63780292 0.7267162  0.71388162 0.74191506 0.75002111 0.77222832\n",
      " 0.83049059 0.8194292  0.8289707  0.8125475  0.78776492 0.75162543\n",
      " 0.78426074 0.77974331 0.81326522 0.8141096  0.79473106 0.83336148\n",
      " 0.85898843 0.83901883 0.85628641 0.87486279 0.88782403 0.90095415\n",
      " 0.92793211 0.948535   0.93333615 0.91746179 0.92544119 0.91771511\n",
      " 0.9483239  0.94064004 0.96635143 0.9563033  0.96491598 0.9429515\n",
      " 0.93651432 0.92660058 0.91707021 0.90950888 0.9042592  0.90101379\n",
      " 0.89917552 0.89809471 0.89721966 0.89617151 0.89476097 0.89296067\n",
      " 0.8908568  0.88859272 0.88632119 0.88416767 0.88221443 0.88049459\n",
      " 0.87900037 0.87769544 0.87652957 0.87545103 0.8744154  0.87339181\n",
      " 0.87236166 0.87131923 0.8702665  0.86921042 0.8681584  0.8671177\n",
      " 0.86609203 0.8650828  0.86408788 0.86310416 0.86212826 0.86115515\n",
      " 0.86018234 0.85920781 0.85823041 0.85724968 0.85626662 0.85528207\n",
      " 0.85429722 0.85331279 0.85233009 0.85134912 0.85037029 0.84939402\n",
      " 0.84842026 0.84744924 0.84648061 0.84551495]\n",
      "23 day output [[0.84455204]]\n",
      "24 day input [0.65203074 0.58642236 0.56586169 0.66089673 0.65515494 0.70970193\n",
      " 0.66452757 0.69437642 0.69218104 0.63569197 0.65266402 0.63780292\n",
      " 0.7267162  0.71388162 0.74191506 0.75002111 0.77222832 0.83049059\n",
      " 0.8194292  0.8289707  0.8125475  0.78776492 0.75162543 0.78426074\n",
      " 0.77974331 0.81326522 0.8141096  0.79473106 0.83336148 0.85898843\n",
      " 0.83901883 0.85628641 0.87486279 0.88782403 0.90095415 0.92793211\n",
      " 0.948535   0.93333615 0.91746179 0.92544119 0.91771511 0.9483239\n",
      " 0.94064004 0.96635143 0.9563033  0.96491598 0.9429515  0.93651432\n",
      " 0.92660058 0.91707021 0.90950888 0.9042592  0.90101379 0.89917552\n",
      " 0.89809471 0.89721966 0.89617151 0.89476097 0.89296067 0.8908568\n",
      " 0.88859272 0.88632119 0.88416767 0.88221443 0.88049459 0.87900037\n",
      " 0.87769544 0.87652957 0.87545103 0.8744154  0.87339181 0.87236166\n",
      " 0.87131923 0.8702665  0.86921042 0.8681584  0.8671177  0.86609203\n",
      " 0.8650828  0.86408788 0.86310416 0.86212826 0.86115515 0.86018234\n",
      " 0.85920781 0.85823041 0.85724968 0.85626662 0.85528207 0.85429722\n",
      " 0.85331279 0.85233009 0.85134912 0.85037029 0.84939402 0.84842026\n",
      " 0.84744924 0.84648061 0.84551495 0.84455204]\n",
      "24 day output [[0.8435924]]\n",
      "25 day input [0.58642236 0.56586169 0.66089673 0.65515494 0.70970193 0.66452757\n",
      " 0.69437642 0.69218104 0.63569197 0.65266402 0.63780292 0.7267162\n",
      " 0.71388162 0.74191506 0.75002111 0.77222832 0.83049059 0.8194292\n",
      " 0.8289707  0.8125475  0.78776492 0.75162543 0.78426074 0.77974331\n",
      " 0.81326522 0.8141096  0.79473106 0.83336148 0.85898843 0.83901883\n",
      " 0.85628641 0.87486279 0.88782403 0.90095415 0.92793211 0.948535\n",
      " 0.93333615 0.91746179 0.92544119 0.91771511 0.9483239  0.94064004\n",
      " 0.96635143 0.9563033  0.96491598 0.9429515  0.93651432 0.92660058\n",
      " 0.91707021 0.90950888 0.9042592  0.90101379 0.89917552 0.89809471\n",
      " 0.89721966 0.89617151 0.89476097 0.89296067 0.8908568  0.88859272\n",
      " 0.88632119 0.88416767 0.88221443 0.88049459 0.87900037 0.87769544\n",
      " 0.87652957 0.87545103 0.8744154  0.87339181 0.87236166 0.87131923\n",
      " 0.8702665  0.86921042 0.8681584  0.8671177  0.86609203 0.8650828\n",
      " 0.86408788 0.86310416 0.86212826 0.86115515 0.86018234 0.85920781\n",
      " 0.85823041 0.85724968 0.85626662 0.85528207 0.85429722 0.85331279\n",
      " 0.85233009 0.85134912 0.85037029 0.84939402 0.84842026 0.84744924\n",
      " 0.84648061 0.84551495 0.84455204 0.84359241]\n"
     ]
    },
    {
     "name": "stdout",
     "output_type": "stream",
     "text": [
      "25 day output [[0.842636]]\n",
      "26 day input [0.56586169 0.66089673 0.65515494 0.70970193 0.66452757 0.69437642\n",
      " 0.69218104 0.63569197 0.65266402 0.63780292 0.7267162  0.71388162\n",
      " 0.74191506 0.75002111 0.77222832 0.83049059 0.8194292  0.8289707\n",
      " 0.8125475  0.78776492 0.75162543 0.78426074 0.77974331 0.81326522\n",
      " 0.8141096  0.79473106 0.83336148 0.85898843 0.83901883 0.85628641\n",
      " 0.87486279 0.88782403 0.90095415 0.92793211 0.948535   0.93333615\n",
      " 0.91746179 0.92544119 0.91771511 0.9483239  0.94064004 0.96635143\n",
      " 0.9563033  0.96491598 0.9429515  0.93651432 0.92660058 0.91707021\n",
      " 0.90950888 0.9042592  0.90101379 0.89917552 0.89809471 0.89721966\n",
      " 0.89617151 0.89476097 0.89296067 0.8908568  0.88859272 0.88632119\n",
      " 0.88416767 0.88221443 0.88049459 0.87900037 0.87769544 0.87652957\n",
      " 0.87545103 0.8744154  0.87339181 0.87236166 0.87131923 0.8702665\n",
      " 0.86921042 0.8681584  0.8671177  0.86609203 0.8650828  0.86408788\n",
      " 0.86310416 0.86212826 0.86115515 0.86018234 0.85920781 0.85823041\n",
      " 0.85724968 0.85626662 0.85528207 0.85429722 0.85331279 0.85233009\n",
      " 0.85134912 0.85037029 0.84939402 0.84842026 0.84744924 0.84648061\n",
      " 0.84551495 0.84455204 0.84359241 0.84263599]\n",
      "26 day output [[0.8416829]]\n",
      "27 day input [0.66089673 0.65515494 0.70970193 0.66452757 0.69437642 0.69218104\n",
      " 0.63569197 0.65266402 0.63780292 0.7267162  0.71388162 0.74191506\n",
      " 0.75002111 0.77222832 0.83049059 0.8194292  0.8289707  0.8125475\n",
      " 0.78776492 0.75162543 0.78426074 0.77974331 0.81326522 0.8141096\n",
      " 0.79473106 0.83336148 0.85898843 0.83901883 0.85628641 0.87486279\n",
      " 0.88782403 0.90095415 0.92793211 0.948535   0.93333615 0.91746179\n",
      " 0.92544119 0.91771511 0.9483239  0.94064004 0.96635143 0.9563033\n",
      " 0.96491598 0.9429515  0.93651432 0.92660058 0.91707021 0.90950888\n",
      " 0.9042592  0.90101379 0.89917552 0.89809471 0.89721966 0.89617151\n",
      " 0.89476097 0.89296067 0.8908568  0.88859272 0.88632119 0.88416767\n",
      " 0.88221443 0.88049459 0.87900037 0.87769544 0.87652957 0.87545103\n",
      " 0.8744154  0.87339181 0.87236166 0.87131923 0.8702665  0.86921042\n",
      " 0.8681584  0.8671177  0.86609203 0.8650828  0.86408788 0.86310416\n",
      " 0.86212826 0.86115515 0.86018234 0.85920781 0.85823041 0.85724968\n",
      " 0.85626662 0.85528207 0.85429722 0.85331279 0.85233009 0.85134912\n",
      " 0.85037029 0.84939402 0.84842026 0.84744924 0.84648061 0.84551495\n",
      " 0.84455204 0.84359241 0.84263599 0.84168291]\n",
      "27 day output [[0.8407337]]\n",
      "28 day input [0.65515494 0.70970193 0.66452757 0.69437642 0.69218104 0.63569197\n",
      " 0.65266402 0.63780292 0.7267162  0.71388162 0.74191506 0.75002111\n",
      " 0.77222832 0.83049059 0.8194292  0.8289707  0.8125475  0.78776492\n",
      " 0.75162543 0.78426074 0.77974331 0.81326522 0.8141096  0.79473106\n",
      " 0.83336148 0.85898843 0.83901883 0.85628641 0.87486279 0.88782403\n",
      " 0.90095415 0.92793211 0.948535   0.93333615 0.91746179 0.92544119\n",
      " 0.91771511 0.9483239  0.94064004 0.96635143 0.9563033  0.96491598\n",
      " 0.9429515  0.93651432 0.92660058 0.91707021 0.90950888 0.9042592\n",
      " 0.90101379 0.89917552 0.89809471 0.89721966 0.89617151 0.89476097\n",
      " 0.89296067 0.8908568  0.88859272 0.88632119 0.88416767 0.88221443\n",
      " 0.88049459 0.87900037 0.87769544 0.87652957 0.87545103 0.8744154\n",
      " 0.87339181 0.87236166 0.87131923 0.8702665  0.86921042 0.8681584\n",
      " 0.8671177  0.86609203 0.8650828  0.86408788 0.86310416 0.86212826\n",
      " 0.86115515 0.86018234 0.85920781 0.85823041 0.85724968 0.85626662\n",
      " 0.85528207 0.85429722 0.85331279 0.85233009 0.85134912 0.85037029\n",
      " 0.84939402 0.84842026 0.84744924 0.84648061 0.84551495 0.84455204\n",
      " 0.84359241 0.84263599 0.84168291 0.84073371]\n",
      "28 day output [[0.8397883]]\n",
      "29 day input [0.70970193 0.66452757 0.69437642 0.69218104 0.63569197 0.65266402\n",
      " 0.63780292 0.7267162  0.71388162 0.74191506 0.75002111 0.77222832\n",
      " 0.83049059 0.8194292  0.8289707  0.8125475  0.78776492 0.75162543\n",
      " 0.78426074 0.77974331 0.81326522 0.8141096  0.79473106 0.83336148\n",
      " 0.85898843 0.83901883 0.85628641 0.87486279 0.88782403 0.90095415\n",
      " 0.92793211 0.948535   0.93333615 0.91746179 0.92544119 0.91771511\n",
      " 0.9483239  0.94064004 0.96635143 0.9563033  0.96491598 0.9429515\n",
      " 0.93651432 0.92660058 0.91707021 0.90950888 0.9042592  0.90101379\n",
      " 0.89917552 0.89809471 0.89721966 0.89617151 0.89476097 0.89296067\n",
      " 0.8908568  0.88859272 0.88632119 0.88416767 0.88221443 0.88049459\n",
      " 0.87900037 0.87769544 0.87652957 0.87545103 0.8744154  0.87339181\n",
      " 0.87236166 0.87131923 0.8702665  0.86921042 0.8681584  0.8671177\n",
      " 0.86609203 0.8650828  0.86408788 0.86310416 0.86212826 0.86115515\n",
      " 0.86018234 0.85920781 0.85823041 0.85724968 0.85626662 0.85528207\n",
      " 0.85429722 0.85331279 0.85233009 0.85134912 0.85037029 0.84939402\n",
      " 0.84842026 0.84744924 0.84648061 0.84551495 0.84455204 0.84359241\n",
      " 0.84263599 0.84168291 0.84073371 0.83978832]\n",
      "29 day output [[0.8388471]]\n",
      "[[0.867117702960968], [0.8660920262336731], [0.8650828003883362], [0.8640878796577454], [0.8631041646003723], [0.8621282577514648], [0.8611551523208618], [0.8601823449134827], [0.859207808971405], [0.8582304120063782], [0.8572496771812439], [0.8562666177749634], [0.8552820682525635], [0.8542972207069397], [0.8533127903938293], [0.8523300886154175], [0.8513491153717041], [0.8503702878952026], [0.8493940234184265], [0.848420262336731], [0.8474492430686951], [0.8464806079864502], [0.8455149531364441], [0.8445520401000977], [0.8435924053192139], [0.842635989189148], [0.8416829109191895], [0.8407337069511414], [0.8397883176803589], [0.8388471007347107]]\n"
     ]
    }
   ],
   "source": [
    "lst_output=[]\n",
    "n_steps=100\n",
    "i=0\n",
    "while(i<30):\n",
    "    \n",
    "    if(len(temp_input)>100):\n",
    "        #print(temp_input)\n",
    "        x_input=np.array(temp_input[1:])\n",
    "        print(\"{} day input {}\".format(i,x_input))\n",
    "        x_input=x_input.reshape(1,-1)\n",
    "        x_input = x_input.reshape((1, n_steps, 1))\n",
    "        #print(x_input)\n",
    "        yhat = model.predict(x_input, verbose=0)\n",
    "        print(\"{} day output {}\".format(i,yhat))\n",
    "        temp_input.extend(yhat[0].tolist())\n",
    "        temp_input=temp_input[1:]\n",
    "        #print(temp_input)\n",
    "        lst_output.extend(yhat.tolist())\n",
    "        i=i+1\n",
    "    else:\n",
    "        x_input = x_input.reshape((1, n_steps,1))\n",
    "        yhat = model.predict(x_input, verbose=0)\n",
    "        print(yhat[0])\n",
    "        temp_input.extend(yhat[0].tolist())\n",
    "        print(len(temp_input))\n",
    "        lst_output.extend(yhat.tolist())\n",
    "        i=i+1\n",
    "    \n",
    "\n",
    "print(lst_output)"
   ]
  },
  {
   "cell_type": "code",
   "execution_count": 432,
   "metadata": {},
   "outputs": [],
   "source": [
    "day_new = np.arange(1,101)\n",
    "day_pred= np.arange(101,131)"
   ]
  },
  {
   "cell_type": "code",
   "execution_count": null,
   "metadata": {},
   "outputs": [],
   "source": []
  },
  {
   "cell_type": "code",
   "execution_count": 433,
   "metadata": {},
   "outputs": [
    {
     "data": {
      "text/plain": [
       "1258"
      ]
     },
     "execution_count": 433,
     "metadata": {},
     "output_type": "execute_result"
    }
   ],
   "source": [
    "len(df1)"
   ]
  },
  {
   "cell_type": "code",
   "execution_count": 434,
   "metadata": {},
   "outputs": [],
   "source": [
    "df3 = df1.tolist()\n",
    "df3.extend(lst_output)"
   ]
  },
  {
   "cell_type": "code",
   "execution_count": 437,
   "metadata": {},
   "outputs": [
    {
     "data": {
      "text/plain": [
       "[<matplotlib.lines.Line2D at 0x2ad4232b550>]"
      ]
     },
     "execution_count": 437,
     "metadata": {},
     "output_type": "execute_result"
    },
    {
     "data": {
      "image/png": "[encoded data removed]",
      "text/plain": [
       "<Figure size 432x288 with 1 Axes>"
      ]
     },
     "metadata": {
      "needs_background": "light"
     },
     "output_type": "display_data"
    }
   ],
   "source": [
    "plt.plot(day_new,scaler.inverse_transform(df1[1158:]))\n",
    "plt.plot(day_pred,scaler.inverse_transform(lst_output))\n",
    "#red color is the predicted line for nxt 30 days"
   ]
  },
  {
   "cell_type": "code",
   "execution_count": 386,
   "metadata": {},
   "outputs": [
    {
     "data": {
      "text/plain": [
       "[<matplotlib.lines.Line2D at 0x2ad33a972b0>]"
      ]
     },
     "execution_count": 386,
     "metadata": {},
     "output_type": "execute_result"
    },
    {
     "data": {
      "image/png": "[encoded data removed]",
      "text/plain": [
       "<Figure size 432x288 with 1 Axes>"
      ]
     },
     "metadata": {
      "needs_background": "light"
     },
     "output_type": "display_data"
    }
   ],
   "source": [
    "df3 = df1.tolist()\n",
    "df3.extend(lst_output)\n",
    "plt.plot(df3[1200:])"
   ]
  },
  {
   "cell_type": "code",
   "execution_count": 417,
   "metadata": {},
   "outputs": [
    {
     "data": {
      "text/plain": [
       "[<matplotlib.lines.Line2D at 0x2ad42045a90>]"
      ]
     },
     "execution_count": 417,
     "metadata": {},
     "output_type": "execute_result"
    },
    {
     "data": {
      "image/png": "[encoded data removed]",
      "text/plain": [
       "<Figure size 432x288 with 1 Axes>"
      ]
     },
     "metadata": {
      "needs_background": "light"
     },
     "output_type": "display_data"
    }
   ],
   "source": [
    "\n",
    "df3=scaler.inverse_transform(df3).tolist()\n",
    "plt.plot(df3)"
   ]
  },
  {
   "cell_type": "code",
   "execution_count": 436,
   "metadata": {},
   "outputs": [
    {
     "data": {
      "text/plain": [
       "[<matplotlib.lines.Line2D at 0x2ad4223a7f0>]"
      ]
     },
     "execution_count": 436,
     "metadata": {},
     "output_type": "execute_result"
    },
    {
     "data": {
      "image/png": "[encoded data removed]",
      "text/plain": [
       "<Figure size 432x288 with 1 Axes>"
      ]
     },
     "metadata": {
      "needs_background": "light"
     },
     "output_type": "display_data"
    }
   ],
   "source": [
    "\n",
    "plt.plot(day_new,scaler.inverse_transform(df1[1158:]))\n",
    "plt.plot(day_pred,scaler.inverse_transform(lst_output))"
   ]
  },
  {
   "cell_type": "code",
   "execution_count": null,
   "metadata": {},
   "outputs": [],
   "source": []
  }
 ],
 "metadata": {
  "kernelspec": {
   "display_name": "venv",
   "language": "python",
   "name": "venv"
  },
  "language_info": {
   "codemirror_mode": {
    "name": "ipython",
    "version": 3
   },
   "file_extension": ".py",
   "mimetype": "text/x-python",
   "name": "python",
   "nbconvert_exporter": "python",
   "pygments_lexer": "ipython3",
   "version": "3.7.0"
  }
 },
 "nbformat": 4,
 "nbformat_minor": 4
}
